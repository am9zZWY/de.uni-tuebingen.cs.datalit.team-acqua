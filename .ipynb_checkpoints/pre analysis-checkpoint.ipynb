{
 "cells": [
  {
   "cell_type": "code",
   "execution_count": 1,
   "id": "3931bbfb",
   "metadata": {
    "ExecuteTime": {
     "end_time": "2023-11-21T20:04:13.040113Z",
     "start_time": "2023-11-21T20:04:13.026219Z"
    }
   },
   "outputs": [],
   "source": [
    "import pandas as pd\n",
    "import matplotlib.pyplot as plt\n",
    "import seaborn as sns\n",
    "import math\n",
    "import matplotlib.patches as mpatches\n",
    "import matplotlib.cm as cm\n",
    "import matplotlib"
   ]
  },
  {
   "cell_type": "markdown",
   "id": "9c745156",
   "metadata": {},
   "source": [
    "# Analyse Dataset"
   ]
  },
  {
   "cell_type": "markdown",
   "id": "50235226",
   "metadata": {},
   "source": [
    "## Import and prepare data\n",
    "The data.csv is too big for overleaf so you can find it here:\n",
    "https://yaon.org/data.csv"
   ]
  },
  {
   "cell_type": "code",
   "execution_count": null,
   "id": "457c78b5",
   "metadata": {
    "ExecuteTime": {
     "start_time": "2023-11-21T20:04:13.030457Z"
    },
    "is_executing": true,
    "scrolled": true
   },
   "outputs": [],
   "source": [
    "'''import csv'''\n",
    "CSV_URL = 'https://yaon.org/data.csv'\n",
    "FILE_NAME = 'data.csv'\n",
    "\n",
    "'''fetch csv'''\n",
    "import requests\n",
    "import os.path\n",
    "from tqdm import tqdm\n",
    "\n",
    "if not os.path.isfile(FILE_NAME):\n",
    "    resp = requests.get(CSV_URL, stream=True)\n",
    "    total = int(resp.headers.get('content-length', 0))\n",
    "    with open(FILE_NAME, 'wb') as file, tqdm(\n",
    "            desc=FILE_NAME,\n",
    "            total=total,\n",
    "            unit='iB',\n",
    "            unit_scale=True,\n",
    "            unit_divisor=1024,\n",
    "    ) as bar:\n",
    "        for data in resp.iter_content(chunk_size=1024):\n",
    "            size = file.write(data)\n",
    "            bar.update(size)\n",
    "\n",
    "import_df = pd.read_csv(FILE_NAME)\n",
    "import_df.drop(columns=['Unnamed: 0'], inplace=True)\n",
    "'''Format dataframe'''\n",
    "df = import_df.pivot_table(index=['Country', 'Year'], columns='Variable', values='Value', aggfunc='first')\n",
    "df.reset_index(inplace=True)\n",
    "\n",
    "df.head()"
   ]
  },
  {
   "cell_type": "markdown",
   "id": "464a823a",
   "metadata": {},
   "source": [
    "## Find for us relevant variables\n",
    "The following list contains all availible variables in the Dataset:"
   ]
  },
  {
   "cell_type": "code",
   "execution_count": null,
   "id": "7eeb5490",
   "metadata": {
    "is_executing": true,
    "scrolled": true
   },
   "outputs": [],
   "source": [
    "for var in df.columns:\n",
    "    print(var)"
   ]
  },
  {
   "cell_type": "markdown",
   "id": "bfeb078a",
   "metadata": {},
   "source": [
    "Now we should define which variables and (maybe not yet) countries we want to look at. Please define those in the following code:"
   ]
  },
  {
   "cell_type": "code",
   "execution_count": null,
   "id": "215ae988",
   "metadata": {
    "is_executing": true
   },
   "outputs": [],
   "source": [
    "'''relevant variables for us'''\n",
    "relevant_vars = ['Total water withdrawal',\n",
    "                 'Agricultural water withdrawal',\n",
    "\n",
    "                 ]\n",
    "'''filter countries (no filter if empty)'''\n",
    "filter_countries = []"
   ]
  },
  {
   "cell_type": "markdown",
   "id": "fe125c31",
   "metadata": {},
   "source": [
    "## Analyse useabla Data\n",
    "The following code constructs a heatmap showing if countries have data for our relevant variables for every year."
   ]
  },
  {
   "cell_type": "code",
   "execution_count": null,
   "id": "fd46e245",
   "metadata": {
    "is_executing": true,
    "scrolled": false
   },
   "outputs": [],
   "source": [
    "'''Extract relevant variables and drop all NaN'''\n",
    "data = df[['Country', 'Year', *relevant_vars]]\n",
    "if filter_countries:\n",
    "    data = data[data['Country'].isin(filter_countries)]\n",
    "data = data.dropna()\n",
    "\n",
    "'''Create dataframe for heatmap'''\n",
    "years_data = data[['Country', 'Year']]\n",
    "years_df = years_data.pivot_table(index=['Country'], columns='Year', values='Year', aggfunc=lambda x: True,\n",
    "                                  fill_value=False)\n",
    "years_df['True_Count'] = years_df.sum(axis=1)\n",
    "years_df = years_df.sort_values(by='True_Count', ascending=True)\n",
    "years_df.drop('True_Count', axis=1, inplace=True)\n",
    "\n",
    "'''spaß mit colormap'''\n",
    "cmap_name = 'coolwarm'\n",
    "cmap = matplotlib.colormaps[cmap_name]\n",
    "color_0 = cmap(0.0)\n",
    "color_1 = cmap(1.0)\n",
    "\n",
    "'''create heatmap'''\n",
    "plt.figure(figsize=(10, math.ceil(math.log(years_data['Country'].nunique(), 2)) * 5))\n",
    "ax = sns.heatmap(years_df,\n",
    "                 annot=False,\n",
    "                 cmap=cmap_name,\n",
    "                 linewidths=0.5,\n",
    "                 linecolor='gray',\n",
    "                 cbar=False\n",
    "                 )\n",
    "\n",
    "# Manuelle Legende\n",
    "blue_patch = mpatches.Patch(color=color_0, label='no data')\n",
    "red_patch = mpatches.Patch(color=color_1, label='data')\n",
    "plt.legend(handles=[blue_patch, red_patch], loc='upper left')\n",
    "\n",
    "plt.title('Precence of variables in year')\n",
    "plt.xlabel('year')\n",
    "plt.ylabel('country')\n",
    "\n",
    "plt.tight_layout()\n",
    "plt.show()"
   ]
  }
 ],
 "metadata": {
  "kernelspec": {
   "display_name": "Python 3 (ipykernel)",
   "language": "python",
   "name": "python3"
  },
  "language_info": {
   "codemirror_mode": {
    "name": "ipython",
    "version": 3
   },
   "file_extension": ".py",
   "mimetype": "text/x-python",
   "name": "python",
   "nbconvert_exporter": "python",
   "pygments_lexer": "ipython3",
   "version": "3.11.2"
  }
 },
 "nbformat": 4,
 "nbformat_minor": 5
}
