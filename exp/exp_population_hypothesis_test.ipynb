{
 "cells": [
  {
   "cell_type": "markdown",
   "metadata": {
    "collapsed": false
   },
   "source": [
    "## Impact of demographic factors on the global water withdrawal\n",
    "\n",
    "In this experiment the influence of the population of a country regarding the total water withdrawal is analyzed.\n",
    "\n",
    "The population should exerts a significant influence on water withdrawal due to its direct correlation with the demand for water resources. As the global population continues to grow, there is a subsequent increase in the need for water to sustain various human activities, including agriculture, industry, and domestic consumption. This rising demand places additional stress on water sources, leading to higher withdrawal rates."
   ]
  },
  {
   "cell_type": "code",
   "execution_count": 11,
   "metadata": {
    "ExecuteTime": {
     "end_time": "2024-01-29T21:54:58.845981Z",
     "start_time": "2024-01-29T21:54:58.841191Z"
    }
   },
   "outputs": [],
   "source": [
    "import os\n",
    "import sys\n",
    "\n",
    "import matplotlib.pyplot as plt\n",
    "import numpy as np\n",
    "from tueplots import bundles\n",
    "from tueplots.constants.color import rgb\n",
    "\n",
    "plt.rcParams.update(plt.rcParamsDefault)\n",
    "plt.rcParams.update(bundles.icml2022())\n",
    "plt.rcParams.update({\"figure.dpi\": 200})\n",
    "\n",
    "sys.path.insert(1, os.path.abspath(os.getcwd()[:-3]))\n",
    "\n",
    "save_figs = True"
   ]
  },
  {
   "cell_type": "markdown",
   "metadata": {},
   "source": [
    "### Import FAO Aquastat Data ###\n",
    "----------------------------------------------------------\n",
    "Source: FAO - Aquastat\n",
    "\n",
    "Timespan: 1964 to 2020\n",
    "\n",
    "Countries: 200+\n",
    "\n",
    "Variables: 180+\n",
    "\n",
    "----------------------------------------------------------\n",
    " \n",
    "First we import water consumption and population data for each country from the aquastat dataset. The columns are rearranged by using the pivot function."
   ]
  },
  {
   "cell_type": "code",
   "execution_count": 12,
   "metadata": {
    "ExecuteTime": {
     "end_time": "2024-01-29T21:54:59.987572Z",
     "start_time": "2024-01-29T21:54:58.846793Z"
    }
   },
   "outputs": [
    {
     "name": "stdout",
     "output_type": "stream",
     "text": [
      "Getting AQUASTAT dataframe from fao_aquastat.csv ...\n",
      "/Users/josef/projects/test/team-aqua/src/../dat/fao_aquastat.csv already exists.\n",
      "Renaming countries ...\n"
     ]
    }
   ],
   "source": [
    "from src.aquastat_utils import get_aquastat\n",
    "from src.utils import save_fig\n",
    "\n",
    "df = get_aquastat()"
   ]
  },
  {
   "cell_type": "markdown",
   "metadata": {},
   "source": [
    "In order to obtain a first visual impression of the influence of global population on the total water withdrawal, both variables are plotted over time."
   ]
  },
  {
   "cell_type": "code",
   "execution_count": 13,
   "metadata": {
    "ExecuteTime": {
     "end_time": "2024-01-29T21:55:01.813455Z",
     "start_time": "2024-01-29T21:54:59.992784Z"
    }
   },
   "outputs": [
    {
     "name": "stdout",
     "output_type": "stream",
     "text": [
      "Saving figure to ../doc/fig/fig_global_water_withdrawal.pdf ... Done!\n"
     ]
    }
   ],
   "source": [
    "# define time interval (first year where data is considered)\n",
    "TARGET_YEAR = 1990\n",
    "\n",
    "# three types of water withdrawal: agricultural, industrial and municipal water withdrawal\n",
    "\n",
    "'''relevant variables for us'''\n",
    "RELEVANT_VARS = ['Total water withdrawal', 'Municipal water withdrawal', 'Industrial water withdrawal',\n",
    "                 'Agricultural water withdrawal', 'Total population']\n",
    "'''filter countries (no filter if empty)'''\n",
    "FILTER_COUNTRIES = []\n",
    "\n",
    "data = df[['Country', 'Year', *RELEVANT_VARS]]\n",
    "if FILTER_COUNTRIES:\n",
    "    data = data[data['Country'].isin(FILTER_COUNTRIES)]\n",
    "data = data.dropna()\n",
    "\n",
    "years = df['Year'].unique()\n",
    "years = years[years >= TARGET_YEAR]\n",
    "\n",
    "years_np_arr = np.zeros(years.shape[0])\n",
    "water = np.zeros((years.shape[0], len(RELEVANT_VARS)))\n",
    "population = np.zeros(years.shape[0])\n",
    "\n",
    "for i, year in enumerate(years):\n",
    "    # filter dataframe w.r.t. year \n",
    "    years_np_arr[i] = year\n",
    "    df_filtered = data[data[\"Year\"] == year]\n",
    "    for j, var in enumerate(RELEVANT_VARS):\n",
    "        if var != 'Total population':\n",
    "            water[i, j] = df_filtered[var].sum()\n",
    "        else:\n",
    "            population[i] = df_filtered[var].sum()\n",
    "\n",
    "import logging\n",
    "\n",
    "logging.getLogger('matplotlib.font_manager').disabled = True\n",
    "\n",
    "#plt.rcParams.update(bundles.icml2022())\n",
    "plt.rcParams.update(bundles.icml2022(column='half', nrows=1, ncols=1))\n",
    "fig = plt.figure()\n",
    "ax = fig.add_subplot(1, 1, 1)\n",
    "\n",
    "ax.set_title('Global Freshwater Withdrawal')\n",
    "\n",
    "# Grid\n",
    "ax.grid(True, which='major', color=rgb.tue_gray, alpha=0.8, linewidth=0.1)\n",
    "\n",
    "# X-axis\n",
    "ax.set_xlabel('Year')\n",
    "ax.xaxis.set_ticks_position('both')\n",
    "ax.xaxis.set_minor_locator(plt.MultipleLocator(1))\n",
    "ax.set_ylabel(\"Freshwater Withdrawal ($10^9$ m$^3$/year)\")\n",
    "\n",
    "width = 0.6\n",
    "# ax.bar(years_np_arr - width / 2, water[:,0], width, color = rgb.tue_blue)\n",
    "ax.bar(years_np_arr, water[:, 3], bottom=water[:, 1] + water[:, 2], width=width, color=rgb.tue_green,\n",
    "       label='Agricultural Sector')\n",
    "ax.bar(years_np_arr, water[:, 2], bottom=water[:, 1], width=width, color='grey',\n",
    "       label='Industrial Sector')\n",
    "ax.bar(years_np_arr, water[:, 1], width=width, color=rgb.tue_orange, label='Municipal Sector')\n",
    "\n",
    "# plot population on second y-axis\n",
    "ax2 = ax.twinx()\n",
    "ax2.plot(years_np_arr, population * 1000 / 10 ** 9, color=rgb.tue_red, label='Population')\n",
    "\n",
    "# set axis scaling\n",
    "ax2.set_ylim(0, 1.5 * ax2.get_ylim()[1])\n",
    "ax.set_ylim(0, 1.5 * ax.get_ylim()[1])\n",
    "\n",
    "ax2.set_ylabel(\"Global Population ($10^9$)\")\n",
    "\n",
    "# Add source\n",
    "ax.text(0.99, 0.01, 'Source: FAO AQUASTAT', fontsize='xx-small', transform=ax.transAxes, ha='right', color=(0, 0, 0))\n",
    "\n",
    "# plot legends in one window\n",
    "lines, labels = ax.get_legend_handles_labels()\n",
    "lines2, labels2 = ax2.get_legend_handles_labels()\n",
    "ax2.legend(lines + lines2, labels + labels2, loc=0)\n",
    "\n",
    "if save_figs:\n",
    "    save_fig(fig, 'global_water_withdrawal', experimental=False)"
   ]
  },
  {
   "cell_type": "code",
   "execution_count": null,
   "metadata": {},
   "outputs": [],
   "source": []
  },
  {
   "cell_type": "markdown",
   "metadata": {},
   "source": [
    "One can clearly see, that there appears to be a connection between both variables. While the global population grew from roughly 4 to 8 billion people, the total freshwater withdrawal also almost doubled.\n",
    "\n",
    "Furthermore it is interesting to observe that a vast majority of the withdrawn water is used for agricultural purposes. Given the direct dependence of food production on population size, and considering that a substantial proportion of water withdrawal is attributed to agricultural activities, the correlation between freshwater withdrawal and population size appears evident.\n",
    "\n",
    "Refer to exp_agricultural_water_usage.ipynb for further analysis regarding agricultural water usage."
   ]
  },
  {
   "cell_type": "markdown",
   "metadata": {},
   "source": [
    "As a next step we compute the correlation between both variables and conduct a permutation test to further explore the influence of the population variable on the total water withdrawal."
   ]
  },
  {
   "cell_type": "code",
   "execution_count": 14,
   "metadata": {
    "ExecuteTime": {
     "end_time": "2024-01-29T21:55:01.815472Z",
     "start_time": "2024-01-29T21:55:01.814537Z"
    }
   },
   "outputs": [
    {
     "data": {
      "text/html": [
       "<div>\n",
       "<style scoped>\n",
       "    .dataframe tbody tr th:only-of-type {\n",
       "        vertical-align: middle;\n",
       "    }\n",
       "\n",
       "    .dataframe tbody tr th {\n",
       "        vertical-align: top;\n",
       "    }\n",
       "\n",
       "    .dataframe thead th {\n",
       "        text-align: right;\n",
       "    }\n",
       "</style>\n",
       "<table border=\"1\" class=\"dataframe\">\n",
       "  <thead>\n",
       "    <tr style=\"text-align: right;\">\n",
       "      <th>Variable</th>\n",
       "      <th>Country</th>\n",
       "      <th>Total population</th>\n",
       "      <th>Total water withdrawal</th>\n",
       "    </tr>\n",
       "  </thead>\n",
       "  <tbody>\n",
       "    <tr>\n",
       "      <th>56</th>\n",
       "      <td>Afghanistan</td>\n",
       "      <td>38928.346</td>\n",
       "      <td>20.3729</td>\n",
       "    </tr>\n",
       "    <tr>\n",
       "      <th>113</th>\n",
       "      <td>Albania</td>\n",
       "      <td>2877.797</td>\n",
       "      <td>0.7860</td>\n",
       "    </tr>\n",
       "    <tr>\n",
       "      <th>170</th>\n",
       "      <td>Algeria</td>\n",
       "      <td>43851.044</td>\n",
       "      <td>10.4620</td>\n",
       "    </tr>\n",
       "    <tr>\n",
       "      <th>284</th>\n",
       "      <td>Angola</td>\n",
       "      <td>32866.272</td>\n",
       "      <td>0.7058</td>\n",
       "    </tr>\n",
       "    <tr>\n",
       "      <th>341</th>\n",
       "      <td>Antigua and Barbuda</td>\n",
       "      <td>97.929</td>\n",
       "      <td>0.0115</td>\n",
       "    </tr>\n",
       "  </tbody>\n",
       "</table>\n",
       "</div>"
      ],
      "text/plain": [
       "Variable              Country  Total population  Total water withdrawal\n",
       "56                Afghanistan         38928.346                 20.3729\n",
       "113                   Albania          2877.797                  0.7860\n",
       "170                   Algeria         43851.044                 10.4620\n",
       "284                    Angola         32866.272                  0.7058\n",
       "341       Antigua and Barbuda            97.929                  0.0115"
      ]
     },
     "execution_count": 14,
     "metadata": {},
     "output_type": "execute_result"
    }
   ],
   "source": [
    "# filter latest data for the year 2020\n",
    "filt_df = df[df['Year'] == 2020]\n",
    "# select relevant variables\n",
    "filt_df = filt_df[['Country', 'Total population', \"Total water withdrawal\"]]\n",
    "# drop all rows where no data is available (where NaNs occur)\n",
    "filt_df = filt_df.dropna()\n",
    "filt_df.head()"
   ]
  },
  {
   "cell_type": "markdown",
   "metadata": {},
   "source": [
    "Calculate Correlation between Total Water Withdrawal and Population"
   ]
  },
  {
   "cell_type": "code",
   "execution_count": 15,
   "metadata": {
    "ExecuteTime": {
     "end_time": "2024-01-29T21:55:01.816149Z",
     "start_time": "2024-01-29T21:55:01.816035Z"
    }
   },
   "outputs": [
    {
     "name": "stdout",
     "output_type": "stream",
     "text": [
      "0.9335097332922297\n"
     ]
    }
   ],
   "source": [
    "corr = filt_df['Total population'].corr(filt_df['Total water withdrawal'])\n",
    "print(corr)"
   ]
  },
  {
   "cell_type": "markdown",
   "metadata": {},
   "source": [
    "The high correlation suggests that there is an important relation between The population of a country and its total water withdrawal.\n",
    "\n",
    "To further explore the coherence between the two variables a simple permutation test is constructed."
   ]
  },
  {
   "cell_type": "code",
   "execution_count": 16,
   "metadata": {
    "ExecuteTime": {
     "start_time": "2024-01-29T21:55:01.817140Z"
    }
   },
   "outputs": [],
   "source": [
    "# transform dataframe to np array and remove country column\n",
    "data_arr = filt_df.to_numpy()[:, 1:]\n",
    "\n",
    "# find median of population to split the countries in two categories\n",
    "median = np.median(data_arr[:, 0])\n",
    "\n",
    "# reshuffle population count for permutation test\n",
    "rng = np.random.default_rng(1)  # random number generator\n",
    "\n",
    "B = 100000  # number of permuations to produce\n",
    "\n",
    "# repeat Y (one row) B times, shape now = (B, N), then shuffle the columns\n",
    "X = data_arr[:, 0]  # X is set to population count which is permuted\n",
    "Y = data_arr[:, 1]  # Y is set to total water withdrawal\n",
    "X_permuted = rng.permuted(np.tile(X, (B, 1)), axis=1)\n",
    "\n",
    "\n",
    "def T_mean(X):\n",
    "    # create mask based on whether permuted label is over or under median\n",
    "    group = np.where(X < median, True, False)\n",
    "\n",
    "    # compute difference in means\n",
    "    return np.mean(Y[group]) - np.mean(Y[~group])\n",
    "\n",
    "\n",
    "# compute mean difference for original data\n",
    "mean_true = T_mean(X)\n",
    "\n",
    "# compute mean difference for permuted data\n",
    "mean_dist = np.apply_along_axis(T_mean, 1, X_permuted)\n"
   ]
  },
  {
   "cell_type": "markdown",
   "metadata": {},
   "source": [
    "The Null Hypothesis ($H_0$) is defines as: \"The variable *population* has no effect on the *total water withdrawal*\""
   ]
  },
  {
   "cell_type": "markdown",
   "metadata": {},
   "source": [
    "For this permutation test we seperate the countries in two groups depending on their respective population. The selection criteria is the median population.\n",
    "Then the population lables are permuted.\n",
    "\n",
    "$$\n",
    "    Y_i = \\left\\{\\begin{array}{ll}\n",
    "        G_1 & X_i > median \\\\\n",
    "        G_2 & X_i \\leq median \\\\\n",
    "    \\end{array}\n",
    "    \\right. \n",
    "$$\n",
    "\n",
    "To compare the obtained results for both groups we apply the following metric:"
   ]
  },
  {
   "cell_type": "markdown",
   "metadata": {},
   "source": [
    "$$\n",
    "    T = \\left[ \\frac{1}{n} \\cdot \\sum_{i \\in G_1} Y_i \\right] - \\left[ \\frac{1}{n} \\cdot \\sum_{i \\in G_2} Y_i \\right] \n",
    "$$\n",
    "where $Y_i$ is a total water withdrawal sample of $G_1$ or $G_2$ respectively."
   ]
  },
  {
   "cell_type": "code",
   "execution_count": 17,
   "metadata": {
    "ExecuteTime": {
     "start_time": "2024-01-29T21:55:01.818138Z"
    }
   },
   "outputs": [
    {
     "name": "stdout",
     "output_type": "stream",
     "text": [
      "Saving figure to fig/fig_population/fig_permutation_test.pdf ... Done!\n"
     ]
    }
   ],
   "source": [
    "plt.rcParams.update(bundles.icml2022())\n",
    "fig = plt.figure()\n",
    "ax = fig.add_subplot(1, 1, 1)\n",
    "\n",
    "bins = np.linspace(-50, 50, 100)\n",
    "ax.set_title('Total Water Withdrawal: Mean Difference')\n",
    "ax.hist(mean_dist, bins=bins, density=True, label='$p_{H_0}(T)$', alpha=0.5, color=rgb.tue_dark)\n",
    "ax.axvline(mean_true, label='$T(X)$', alpha=1.0, color=rgb.tue_red)\n",
    "ax.legend(loc='upper right', frameon=False)\n",
    "#ax.yaxis.set_visible(False)\n",
    "ax.set_xlabel('$T$')\n",
    "\n",
    "if save_figs:\n",
    "    save_fig(fig, 'permutation_test', 'fig_population')"
   ]
  },
  {
   "cell_type": "markdown",
   "metadata": {},
   "source": [
    "When performing the test with $n = 100,000$ different permutations, the ditribution shown in the figure above is obtained. As one can see the histogram obtained when assuming the Null Hypothesis is true does not contain the actual observation $T(X)$. This means the $p$-value must be smaller than $1 \\cdot 10^{-5}$. Hence, we can reject the null hypothesis."
   ]
  },
  {
   "cell_type": "code",
   "execution_count": 18,
   "metadata": {
    "ExecuteTime": {
     "start_time": "2024-01-29T21:55:01.819062Z"
    }
   },
   "outputs": [
    {
     "name": "stdout",
     "output_type": "stream",
     "text": [
      "Saving figure to fig/fig_population/fig_permutation_test_2.pdf ... Done!\n"
     ]
    }
   ],
   "source": [
    "bins = np.linspace(-50, 50, 101)\n",
    "loc_data = np.argmax(bins >= mean_true)\n",
    "histogram, _ = np.histogram(mean_dist, bins=bins, density=True)\n",
    "empirical_cdf = (np.cumsum(histogram) / np.sum(histogram))\n",
    "\n",
    "p_value = empirical_cdf[loc_data]\n",
    "\n",
    "fig, ax = plt.subplots()\n",
    "ax.plot(bins[:-1], empirical_cdf, label='empirical CDF', color=rgb.tue_dark)\n",
    "ax.set_yscale('log')\n",
    "ax.axvline(mean_true, label='data', alpha=1.0, color=rgb.tue_red)\n",
    "ax.plot([-30, mean_true], [p_value, p_value], color=rgb.tue_gray, linestyle='-', marker=\"o\", ms=2, lw=0.6)\n",
    "ax.set_xlim(-50, 50)\n",
    "\n",
    "#ax.text(-20, 0.0001, f'$p$-value = {p_value:.1e}', fontsize=8)\n",
    "ax.set_xlabel(r'$T(X) = \\bar{y}_{G_1} - \\bar{y}_{G_2}$')\n",
    "ax.set_ylabel('approx. CDF of permutation distribution')\n",
    "\n",
    "if save_figs:\n",
    "    save_fig(fig, 'fig_permutation_test_2', 'fig_population')"
   ]
  }
 ],
 "metadata": {
  "kernelspec": {
   "display_name": "DataLiteracy",
   "language": "python",
   "name": "python3"
  },
  "language_info": {
   "codemirror_mode": {
    "name": "ipython",
    "version": 3
   },
   "file_extension": ".py",
   "mimetype": "text/x-python",
   "name": "python",
   "nbconvert_exporter": "python",
   "pygments_lexer": "ipython3",
   "version": "3.11.5"
  }
 },
 "nbformat": 4,
 "nbformat_minor": 2
}
