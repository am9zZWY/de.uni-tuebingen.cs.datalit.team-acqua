{
 "cells": [
  {
   "cell_type": "markdown",
   "metadata": {
    "collapsed": false
   },
   "source": [
    "## Impact of demographic factors on the global water withdrawal\n",
    "\n",
    "In this experiment the influence of the population of a country regarding the total water withdrawal is analyzed.\n",
    "\n",
    "The population should exerts a significant influence on water withdrawal due to its direct correlation with the demand for water resources. As the global population continues to grow, there is a subsequent increase in the need for water to sustain various human activities, including agriculture, industry, and domestic consumption. This rising demand places additional stress on water sources, leading to higher withdrawal rates."
   ]
  },
  {
   "cell_type": "code",
   "execution_count": 1,
   "metadata": {
    "ExecuteTime": {
     "end_time": "2024-01-29T01:21:46.745844Z",
     "start_time": "2024-01-29T01:21:46.741280Z"
    }
   },
   "outputs": [],
   "source": [
    "import os\n",
    "import sys\n",
    "\n",
    "import matplotlib.pyplot as plt\n",
    "import numpy as np\n",
    "from tueplots import bundles\n",
    "from tueplots.constants.color import rgb\n",
    "\n",
    "plt.rcParams.update(plt.rcParamsDefault)\n",
    "plt.rcParams.update(bundles.icml2022())\n",
    "plt.rcParams.update({\"figure.dpi\": 200})\n",
    "\n",
    "sys.path.insert(1, os.path.abspath(os.getcwd()[:-3]))\n",
    "\n",
    "save_figs = True"
   ]
  },
  {
   "cell_type": "markdown",
   "metadata": {},
   "source": [
    "### Import FAO Aquastat Data ###\n",
    "----------------------------------------------------------\n",
    "Source: FAO - Aquastat\n",
    "\n",
    "Timespan: 1964 to 2020\n",
    "\n",
    "Countries: 200+\n",
    "\n",
    "Variables: 180+\n",
    "\n",
    "----------------------------------------------------------\n",
    " \n",
    "First we import water consumption and population data for each country from the aquastat dataset. The columns are rearranged by using the pivot function."
   ]
  },
  {
   "cell_type": "code",
   "execution_count": 2,
   "metadata": {
    "ExecuteTime": {
     "end_time": "2024-01-29T01:21:47.877121Z",
     "start_time": "2024-01-29T01:21:46.748739Z"
    }
   },
   "outputs": [
    {
     "name": "stdout",
     "output_type": "stream",
     "text": [
      "/Users/josef/Sync/Dokumente/SCHULE/Master/UT/Vorlesungen/Sem2/Data_Literacy/Paper/src/../dat/../dat/fao_aquastat.csv already exists.\n"
     ]
    },
    {
     "data": {
      "text/plain": "Variable      Country  Year  \\\n0         Afghanistan  1964   \n1         Afghanistan  1965   \n2         Afghanistan  1966   \n3         Afghanistan  1967   \n4         Afghanistan  1968   \n\nVariable  % of agricultural GVA produced by irrigated agriculture  \\\n0                                                       NaN         \n1                                                       NaN         \n2                                                       NaN         \n3                                                       NaN         \n4                                                       NaN         \n\nVariable  % of agricultural water managed area equipped for irrigation  \\\n0                                                       NaN              \n1                                                       NaN              \n2                                                       NaN              \n3                                                     100.0              \n4                                                     100.0              \n\nVariable  % of area equipped for full control irrigation actually irrigated  \\\n0                                                       NaN                   \n1                                                       NaN                   \n2                                                       NaN                   \n3                                                       NaN                   \n4                                                       NaN                   \n\nVariable  % of area equipped for irrigation by desalinated water  \\\n0                                                       NaN        \n1                                                       NaN        \n2                                                       NaN        \n3                                                       NaN        \n4                                                       NaN        \n\nVariable  % of area equipped for irrigation by direct use of  treated municipal wastewater  \\\n0                                                       NaN                                  \n1                                                       NaN                                  \n2                                                       NaN                                  \n3                                                       NaN                                  \n4                                                       NaN                                  \n\nVariable  % of area equipped for irrigation by direct use of agricultural drainage water   \\\n0                                                       NaN                                 \n1                                                       NaN                                 \n2                                                       NaN                                 \n3                                                       NaN                                 \n4                                                       NaN                                 \n\nVariable  % of area equipped for irrigation by direct use of non-treated municipal wastewater  \\\n0                                                       NaN                                     \n1                                                       NaN                                     \n2                                                       NaN                                     \n3                                                       NaN                                     \n4                                                       NaN                                     \n\nVariable  % of area equipped for irrigation by groundwater   ...  \\\n0                                                       NaN  ...   \n1                                                       NaN  ...   \n2                                                       NaN  ...   \n3                                                 15.399632  ...   \n4                                                 15.461053  ...   \n\nVariable  Total water withdrawal  Total water withdrawal per capita  \\\n0                            NaN                                NaN   \n1                            NaN                                NaN   \n2                            NaN                                NaN   \n3                            NaN                                NaN   \n4                            NaN                                NaN   \n\nVariable  Treated municipal wastewater  \\\n0                                  NaN   \n1                                  NaN   \n2                                  NaN   \n3                                  NaN   \n4                                  NaN   \n\nVariable  Treated municipal wastewater discharged (secondary water)  \\\n0                                                       NaN           \n1                                                       NaN           \n2                                                       NaN           \n3                                                       NaN           \n4                                                       NaN           \n\nVariable  Urban population  \\\n0                  932.865   \n1                  984.350   \n2                 1038.852   \n3                 1096.428   \n4                 1157.827   \n\nVariable  Urban population with access to safe drinking-water (JMP)  \\\n0                                                       NaN           \n1                                                       NaN           \n2                                                       NaN           \n3                                                       NaN           \n4                                                       NaN           \n\nVariable  Water resources: total external renewable  \\\n0                                             18.18   \n1                                             18.18   \n2                                             18.18   \n3                                             18.18   \n4                                             18.18   \n\nVariable  Water withdrawal for aquaculture  \\\n0                                      NaN   \n1                                      NaN   \n2                                      NaN   \n3                                      NaN   \n4                                      NaN   \n\nVariable  Water withdrawal for cooling of thermoelectric plants  \\\n0                                                       NaN       \n1                                                       NaN       \n2                                                       NaN       \n3                                                       NaN       \n4                                                       NaN       \n\nVariable  Water withdrawal for livestock (watering and cleaning)  \n0                                                       NaN       \n1                                                       NaN       \n2                                                       NaN       \n3                                                       NaN       \n4                                                       NaN       \n\n[5 rows x 195 columns]",
      "text/html": "<div>\n<style scoped>\n    .dataframe tbody tr th:only-of-type {\n        vertical-align: middle;\n    }\n\n    .dataframe tbody tr th {\n        vertical-align: top;\n    }\n\n    .dataframe thead th {\n        text-align: right;\n    }\n</style>\n<table border=\"1\" class=\"dataframe\">\n  <thead>\n    <tr style=\"text-align: right;\">\n      <th>Variable</th>\n      <th>Country</th>\n      <th>Year</th>\n      <th>% of agricultural GVA produced by irrigated agriculture</th>\n      <th>% of agricultural water managed area equipped for irrigation</th>\n      <th>% of area equipped for full control irrigation actually irrigated</th>\n      <th>% of area equipped for irrigation by desalinated water</th>\n      <th>% of area equipped for irrigation by direct use of  treated municipal wastewater</th>\n      <th>% of area equipped for irrigation by direct use of agricultural drainage water</th>\n      <th>% of area equipped for irrigation by direct use of non-treated municipal wastewater</th>\n      <th>% of area equipped for irrigation by groundwater</th>\n      <th>...</th>\n      <th>Total water withdrawal</th>\n      <th>Total water withdrawal per capita</th>\n      <th>Treated municipal wastewater</th>\n      <th>Treated municipal wastewater discharged (secondary water)</th>\n      <th>Urban population</th>\n      <th>Urban population with access to safe drinking-water (JMP)</th>\n      <th>Water resources: total external renewable</th>\n      <th>Water withdrawal for aquaculture</th>\n      <th>Water withdrawal for cooling of thermoelectric plants</th>\n      <th>Water withdrawal for livestock (watering and cleaning)</th>\n    </tr>\n  </thead>\n  <tbody>\n    <tr>\n      <th>0</th>\n      <td>Afghanistan</td>\n      <td>1964</td>\n      <td>NaN</td>\n      <td>NaN</td>\n      <td>NaN</td>\n      <td>NaN</td>\n      <td>NaN</td>\n      <td>NaN</td>\n      <td>NaN</td>\n      <td>NaN</td>\n      <td>...</td>\n      <td>NaN</td>\n      <td>NaN</td>\n      <td>NaN</td>\n      <td>NaN</td>\n      <td>932.865</td>\n      <td>NaN</td>\n      <td>18.18</td>\n      <td>NaN</td>\n      <td>NaN</td>\n      <td>NaN</td>\n    </tr>\n    <tr>\n      <th>1</th>\n      <td>Afghanistan</td>\n      <td>1965</td>\n      <td>NaN</td>\n      <td>NaN</td>\n      <td>NaN</td>\n      <td>NaN</td>\n      <td>NaN</td>\n      <td>NaN</td>\n      <td>NaN</td>\n      <td>NaN</td>\n      <td>...</td>\n      <td>NaN</td>\n      <td>NaN</td>\n      <td>NaN</td>\n      <td>NaN</td>\n      <td>984.350</td>\n      <td>NaN</td>\n      <td>18.18</td>\n      <td>NaN</td>\n      <td>NaN</td>\n      <td>NaN</td>\n    </tr>\n    <tr>\n      <th>2</th>\n      <td>Afghanistan</td>\n      <td>1966</td>\n      <td>NaN</td>\n      <td>NaN</td>\n      <td>NaN</td>\n      <td>NaN</td>\n      <td>NaN</td>\n      <td>NaN</td>\n      <td>NaN</td>\n      <td>NaN</td>\n      <td>...</td>\n      <td>NaN</td>\n      <td>NaN</td>\n      <td>NaN</td>\n      <td>NaN</td>\n      <td>1038.852</td>\n      <td>NaN</td>\n      <td>18.18</td>\n      <td>NaN</td>\n      <td>NaN</td>\n      <td>NaN</td>\n    </tr>\n    <tr>\n      <th>3</th>\n      <td>Afghanistan</td>\n      <td>1967</td>\n      <td>NaN</td>\n      <td>100.0</td>\n      <td>NaN</td>\n      <td>NaN</td>\n      <td>NaN</td>\n      <td>NaN</td>\n      <td>NaN</td>\n      <td>15.399632</td>\n      <td>...</td>\n      <td>NaN</td>\n      <td>NaN</td>\n      <td>NaN</td>\n      <td>NaN</td>\n      <td>1096.428</td>\n      <td>NaN</td>\n      <td>18.18</td>\n      <td>NaN</td>\n      <td>NaN</td>\n      <td>NaN</td>\n    </tr>\n    <tr>\n      <th>4</th>\n      <td>Afghanistan</td>\n      <td>1968</td>\n      <td>NaN</td>\n      <td>100.0</td>\n      <td>NaN</td>\n      <td>NaN</td>\n      <td>NaN</td>\n      <td>NaN</td>\n      <td>NaN</td>\n      <td>15.461053</td>\n      <td>...</td>\n      <td>NaN</td>\n      <td>NaN</td>\n      <td>NaN</td>\n      <td>NaN</td>\n      <td>1157.827</td>\n      <td>NaN</td>\n      <td>18.18</td>\n      <td>NaN</td>\n      <td>NaN</td>\n      <td>NaN</td>\n    </tr>\n  </tbody>\n</table>\n<p>5 rows × 195 columns</p>\n</div>"
     },
     "execution_count": 2,
     "metadata": {},
     "output_type": "execute_result"
    }
   ],
   "source": [
    "from src.utils import get_dataframe, to_fig_path\n",
    "\n",
    "FILE_NAME = '../dat/fao_aquastat.csv'\n",
    "CSV_URL = 'https://yaon.org/data.csv'\n",
    "\n",
    "'''\n",
    "Import CSV. This also downloads the file if it is not already present.\n",
    "'''\n",
    "import_df = get_dataframe(file_path=FILE_NAME, url=CSV_URL)\n",
    "if import_df is None:\n",
    "    print('Could not import CSV')\n",
    "    exit(1)\n",
    "\n",
    "'''Drop first column'''\n",
    "import_df.drop(columns=['Unnamed: 0'], inplace=True)\n",
    "\n",
    "'''Format dataframe'''\n",
    "df = import_df.pivot_table(index=['Country', 'Year'], columns='Variable', values='Value', aggfunc='first')\n",
    "df.reset_index(inplace=True)\n",
    "\n",
    "df.head()"
   ]
  },
  {
   "cell_type": "markdown",
   "metadata": {},
   "source": [
    "In order to obtain a first visual impression of the influence of global population on the total water withdrawal, both variables are plotted over time."
   ]
  },
  {
   "cell_type": "code",
   "execution_count": 3,
   "metadata": {
    "ExecuteTime": {
     "end_time": "2024-01-29T01:21:53.751907Z",
     "start_time": "2024-01-29T01:21:47.880066Z"
    }
   },
   "outputs": [
    {
     "ename": "FileNotFoundError",
     "evalue": "[Errno 2] No such file or directory: '../doc/water/fig/fig_population/global_water_withdrawal.pdf'",
     "output_type": "error",
     "traceback": [
      "\u001B[0;31m---------------------------------------------------------------------------\u001B[0m",
      "\u001B[0;31mFileNotFoundError\u001B[0m                         Traceback (most recent call last)",
      "Cell \u001B[0;32mIn[3], line 81\u001B[0m\n\u001B[1;32m     78\u001B[0m ax2\u001B[38;5;241m.\u001B[39mlegend(lines \u001B[38;5;241m+\u001B[39m lines2, labels \u001B[38;5;241m+\u001B[39m labels2, loc\u001B[38;5;241m=\u001B[39m\u001B[38;5;241m0\u001B[39m)\n\u001B[1;32m     80\u001B[0m \u001B[38;5;28;01mif\u001B[39;00m save_figs:\n\u001B[0;32m---> 81\u001B[0m     \u001B[43mplt\u001B[49m\u001B[38;5;241;43m.\u001B[39;49m\u001B[43msavefig\u001B[49m\u001B[43m(\u001B[49m\u001B[38;5;124;43m'\u001B[39;49m\u001B[38;5;124;43m../doc/water/fig/fig_population/global_water_withdrawal.pdf\u001B[39;49m\u001B[38;5;124;43m'\u001B[39;49m\u001B[43m)\u001B[49m\n",
      "File \u001B[0;32m~/Sync/Dokumente/SCHULE/Master/UT/Vorlesungen/Sem2/Data_Literacy/Paper/.venv/lib/python3.11/site-packages/matplotlib/pyplot.py:1119\u001B[0m, in \u001B[0;36msavefig\u001B[0;34m(*args, **kwargs)\u001B[0m\n\u001B[1;32m   1116\u001B[0m fig \u001B[38;5;241m=\u001B[39m gcf()\n\u001B[1;32m   1117\u001B[0m \u001B[38;5;66;03m# savefig default implementation has no return, so mypy is unhappy\u001B[39;00m\n\u001B[1;32m   1118\u001B[0m \u001B[38;5;66;03m# presumably this is here because subclasses can return?\u001B[39;00m\n\u001B[0;32m-> 1119\u001B[0m res \u001B[38;5;241m=\u001B[39m \u001B[43mfig\u001B[49m\u001B[38;5;241;43m.\u001B[39;49m\u001B[43msavefig\u001B[49m\u001B[43m(\u001B[49m\u001B[38;5;241;43m*\u001B[39;49m\u001B[43margs\u001B[49m\u001B[43m,\u001B[49m\u001B[43m \u001B[49m\u001B[38;5;241;43m*\u001B[39;49m\u001B[38;5;241;43m*\u001B[39;49m\u001B[43mkwargs\u001B[49m\u001B[43m)\u001B[49m  \u001B[38;5;66;03m# type: ignore[func-returns-value]\u001B[39;00m\n\u001B[1;32m   1120\u001B[0m fig\u001B[38;5;241m.\u001B[39mcanvas\u001B[38;5;241m.\u001B[39mdraw_idle()  \u001B[38;5;66;03m# Need this if 'transparent=True', to reset colors.\u001B[39;00m\n\u001B[1;32m   1121\u001B[0m \u001B[38;5;28;01mreturn\u001B[39;00m res\n",
      "File \u001B[0;32m~/Sync/Dokumente/SCHULE/Master/UT/Vorlesungen/Sem2/Data_Literacy/Paper/.venv/lib/python3.11/site-packages/matplotlib/figure.py:3390\u001B[0m, in \u001B[0;36mFigure.savefig\u001B[0;34m(self, fname, transparent, **kwargs)\u001B[0m\n\u001B[1;32m   3388\u001B[0m     \u001B[38;5;28;01mfor\u001B[39;00m ax \u001B[38;5;129;01min\u001B[39;00m \u001B[38;5;28mself\u001B[39m\u001B[38;5;241m.\u001B[39maxes:\n\u001B[1;32m   3389\u001B[0m         _recursively_make_axes_transparent(stack, ax)\n\u001B[0;32m-> 3390\u001B[0m \u001B[38;5;28;43mself\u001B[39;49m\u001B[38;5;241;43m.\u001B[39;49m\u001B[43mcanvas\u001B[49m\u001B[38;5;241;43m.\u001B[39;49m\u001B[43mprint_figure\u001B[49m\u001B[43m(\u001B[49m\u001B[43mfname\u001B[49m\u001B[43m,\u001B[49m\u001B[43m \u001B[49m\u001B[38;5;241;43m*\u001B[39;49m\u001B[38;5;241;43m*\u001B[39;49m\u001B[43mkwargs\u001B[49m\u001B[43m)\u001B[49m\n",
      "File \u001B[0;32m~/Sync/Dokumente/SCHULE/Master/UT/Vorlesungen/Sem2/Data_Literacy/Paper/.venv/lib/python3.11/site-packages/matplotlib/backend_bases.py:2193\u001B[0m, in \u001B[0;36mFigureCanvasBase.print_figure\u001B[0;34m(self, filename, dpi, facecolor, edgecolor, orientation, format, bbox_inches, pad_inches, bbox_extra_artists, backend, **kwargs)\u001B[0m\n\u001B[1;32m   2189\u001B[0m \u001B[38;5;28;01mtry\u001B[39;00m:\n\u001B[1;32m   2190\u001B[0m     \u001B[38;5;66;03m# _get_renderer may change the figure dpi (as vector formats\u001B[39;00m\n\u001B[1;32m   2191\u001B[0m     \u001B[38;5;66;03m# force the figure dpi to 72), so we need to set it again here.\u001B[39;00m\n\u001B[1;32m   2192\u001B[0m     \u001B[38;5;28;01mwith\u001B[39;00m cbook\u001B[38;5;241m.\u001B[39m_setattr_cm(\u001B[38;5;28mself\u001B[39m\u001B[38;5;241m.\u001B[39mfigure, dpi\u001B[38;5;241m=\u001B[39mdpi):\n\u001B[0;32m-> 2193\u001B[0m         result \u001B[38;5;241m=\u001B[39m \u001B[43mprint_method\u001B[49m\u001B[43m(\u001B[49m\n\u001B[1;32m   2194\u001B[0m \u001B[43m            \u001B[49m\u001B[43mfilename\u001B[49m\u001B[43m,\u001B[49m\n\u001B[1;32m   2195\u001B[0m \u001B[43m            \u001B[49m\u001B[43mfacecolor\u001B[49m\u001B[38;5;241;43m=\u001B[39;49m\u001B[43mfacecolor\u001B[49m\u001B[43m,\u001B[49m\n\u001B[1;32m   2196\u001B[0m \u001B[43m            \u001B[49m\u001B[43medgecolor\u001B[49m\u001B[38;5;241;43m=\u001B[39;49m\u001B[43medgecolor\u001B[49m\u001B[43m,\u001B[49m\n\u001B[1;32m   2197\u001B[0m \u001B[43m            \u001B[49m\u001B[43morientation\u001B[49m\u001B[38;5;241;43m=\u001B[39;49m\u001B[43morientation\u001B[49m\u001B[43m,\u001B[49m\n\u001B[1;32m   2198\u001B[0m \u001B[43m            \u001B[49m\u001B[43mbbox_inches_restore\u001B[49m\u001B[38;5;241;43m=\u001B[39;49m\u001B[43m_bbox_inches_restore\u001B[49m\u001B[43m,\u001B[49m\n\u001B[1;32m   2199\u001B[0m \u001B[43m            \u001B[49m\u001B[38;5;241;43m*\u001B[39;49m\u001B[38;5;241;43m*\u001B[39;49m\u001B[43mkwargs\u001B[49m\u001B[43m)\u001B[49m\n\u001B[1;32m   2200\u001B[0m \u001B[38;5;28;01mfinally\u001B[39;00m:\n\u001B[1;32m   2201\u001B[0m     \u001B[38;5;28;01mif\u001B[39;00m bbox_inches \u001B[38;5;129;01mand\u001B[39;00m restore_bbox:\n",
      "File \u001B[0;32m~/Sync/Dokumente/SCHULE/Master/UT/Vorlesungen/Sem2/Data_Literacy/Paper/.venv/lib/python3.11/site-packages/matplotlib/backend_bases.py:2043\u001B[0m, in \u001B[0;36mFigureCanvasBase._switch_canvas_and_return_print_method.<locals>.<lambda>\u001B[0;34m(*args, **kwargs)\u001B[0m\n\u001B[1;32m   2039\u001B[0m     optional_kws \u001B[38;5;241m=\u001B[39m {  \u001B[38;5;66;03m# Passed by print_figure for other renderers.\u001B[39;00m\n\u001B[1;32m   2040\u001B[0m         \u001B[38;5;124m\"\u001B[39m\u001B[38;5;124mdpi\u001B[39m\u001B[38;5;124m\"\u001B[39m, \u001B[38;5;124m\"\u001B[39m\u001B[38;5;124mfacecolor\u001B[39m\u001B[38;5;124m\"\u001B[39m, \u001B[38;5;124m\"\u001B[39m\u001B[38;5;124medgecolor\u001B[39m\u001B[38;5;124m\"\u001B[39m, \u001B[38;5;124m\"\u001B[39m\u001B[38;5;124morientation\u001B[39m\u001B[38;5;124m\"\u001B[39m,\n\u001B[1;32m   2041\u001B[0m         \u001B[38;5;124m\"\u001B[39m\u001B[38;5;124mbbox_inches_restore\u001B[39m\u001B[38;5;124m\"\u001B[39m}\n\u001B[1;32m   2042\u001B[0m     skip \u001B[38;5;241m=\u001B[39m optional_kws \u001B[38;5;241m-\u001B[39m {\u001B[38;5;241m*\u001B[39minspect\u001B[38;5;241m.\u001B[39msignature(meth)\u001B[38;5;241m.\u001B[39mparameters}\n\u001B[0;32m-> 2043\u001B[0m     print_method \u001B[38;5;241m=\u001B[39m functools\u001B[38;5;241m.\u001B[39mwraps(meth)(\u001B[38;5;28;01mlambda\u001B[39;00m \u001B[38;5;241m*\u001B[39margs, \u001B[38;5;241m*\u001B[39m\u001B[38;5;241m*\u001B[39mkwargs: \u001B[43mmeth\u001B[49m\u001B[43m(\u001B[49m\n\u001B[1;32m   2044\u001B[0m \u001B[43m        \u001B[49m\u001B[38;5;241;43m*\u001B[39;49m\u001B[43margs\u001B[49m\u001B[43m,\u001B[49m\u001B[43m \u001B[49m\u001B[38;5;241;43m*\u001B[39;49m\u001B[38;5;241;43m*\u001B[39;49m\u001B[43m{\u001B[49m\u001B[43mk\u001B[49m\u001B[43m:\u001B[49m\u001B[43m \u001B[49m\u001B[43mv\u001B[49m\u001B[43m \u001B[49m\u001B[38;5;28;43;01mfor\u001B[39;49;00m\u001B[43m \u001B[49m\u001B[43mk\u001B[49m\u001B[43m,\u001B[49m\u001B[43m \u001B[49m\u001B[43mv\u001B[49m\u001B[43m \u001B[49m\u001B[38;5;129;43;01min\u001B[39;49;00m\u001B[43m \u001B[49m\u001B[43mkwargs\u001B[49m\u001B[38;5;241;43m.\u001B[39;49m\u001B[43mitems\u001B[49m\u001B[43m(\u001B[49m\u001B[43m)\u001B[49m\u001B[43m \u001B[49m\u001B[38;5;28;43;01mif\u001B[39;49;00m\u001B[43m \u001B[49m\u001B[43mk\u001B[49m\u001B[43m \u001B[49m\u001B[38;5;129;43;01mnot\u001B[39;49;00m\u001B[43m \u001B[49m\u001B[38;5;129;43;01min\u001B[39;49;00m\u001B[43m \u001B[49m\u001B[43mskip\u001B[49m\u001B[43m}\u001B[49m\u001B[43m)\u001B[49m)\n\u001B[1;32m   2045\u001B[0m \u001B[38;5;28;01melse\u001B[39;00m:  \u001B[38;5;66;03m# Let third-parties do as they see fit.\u001B[39;00m\n\u001B[1;32m   2046\u001B[0m     print_method \u001B[38;5;241m=\u001B[39m meth\n",
      "File \u001B[0;32m~/Sync/Dokumente/SCHULE/Master/UT/Vorlesungen/Sem2/Data_Literacy/Paper/.venv/lib/python3.11/site-packages/matplotlib/backends/backend_pdf.py:2800\u001B[0m, in \u001B[0;36mFigureCanvasPdf.print_pdf\u001B[0;34m(self, filename, bbox_inches_restore, metadata)\u001B[0m\n\u001B[1;32m   2798\u001B[0m     file \u001B[38;5;241m=\u001B[39m filename\u001B[38;5;241m.\u001B[39m_ensure_file()\n\u001B[1;32m   2799\u001B[0m \u001B[38;5;28;01melse\u001B[39;00m:\n\u001B[0;32m-> 2800\u001B[0m     file \u001B[38;5;241m=\u001B[39m \u001B[43mPdfFile\u001B[49m\u001B[43m(\u001B[49m\u001B[43mfilename\u001B[49m\u001B[43m,\u001B[49m\u001B[43m \u001B[49m\u001B[43mmetadata\u001B[49m\u001B[38;5;241;43m=\u001B[39;49m\u001B[43mmetadata\u001B[49m\u001B[43m)\u001B[49m\n\u001B[1;32m   2801\u001B[0m \u001B[38;5;28;01mtry\u001B[39;00m:\n\u001B[1;32m   2802\u001B[0m     file\u001B[38;5;241m.\u001B[39mnewPage(width, height)\n",
      "File \u001B[0;32m~/Sync/Dokumente/SCHULE/Master/UT/Vorlesungen/Sem2/Data_Literacy/Paper/.venv/lib/python3.11/site-packages/matplotlib/backends/backend_pdf.py:688\u001B[0m, in \u001B[0;36mPdfFile.__init__\u001B[0;34m(self, filename, metadata)\u001B[0m\n\u001B[1;32m    686\u001B[0m \u001B[38;5;28mself\u001B[39m\u001B[38;5;241m.\u001B[39moriginal_file_like \u001B[38;5;241m=\u001B[39m \u001B[38;5;28;01mNone\u001B[39;00m\n\u001B[1;32m    687\u001B[0m \u001B[38;5;28mself\u001B[39m\u001B[38;5;241m.\u001B[39mtell_base \u001B[38;5;241m=\u001B[39m \u001B[38;5;241m0\u001B[39m\n\u001B[0;32m--> 688\u001B[0m fh, opened \u001B[38;5;241m=\u001B[39m \u001B[43mcbook\u001B[49m\u001B[38;5;241;43m.\u001B[39;49m\u001B[43mto_filehandle\u001B[49m\u001B[43m(\u001B[49m\u001B[43mfilename\u001B[49m\u001B[43m,\u001B[49m\u001B[43m \u001B[49m\u001B[38;5;124;43m\"\u001B[39;49m\u001B[38;5;124;43mwb\u001B[39;49m\u001B[38;5;124;43m\"\u001B[39;49m\u001B[43m,\u001B[49m\u001B[43m \u001B[49m\u001B[43mreturn_opened\u001B[49m\u001B[38;5;241;43m=\u001B[39;49m\u001B[38;5;28;43;01mTrue\u001B[39;49;00m\u001B[43m)\u001B[49m\n\u001B[1;32m    689\u001B[0m \u001B[38;5;28;01mif\u001B[39;00m \u001B[38;5;129;01mnot\u001B[39;00m opened:\n\u001B[1;32m    690\u001B[0m     \u001B[38;5;28;01mtry\u001B[39;00m:\n",
      "File \u001B[0;32m~/Sync/Dokumente/SCHULE/Master/UT/Vorlesungen/Sem2/Data_Literacy/Paper/.venv/lib/python3.11/site-packages/matplotlib/cbook.py:483\u001B[0m, in \u001B[0;36mto_filehandle\u001B[0;34m(fname, flag, return_opened, encoding)\u001B[0m\n\u001B[1;32m    481\u001B[0m         fh \u001B[38;5;241m=\u001B[39m bz2\u001B[38;5;241m.\u001B[39mBZ2File(fname, flag)\n\u001B[1;32m    482\u001B[0m     \u001B[38;5;28;01melse\u001B[39;00m:\n\u001B[0;32m--> 483\u001B[0m         fh \u001B[38;5;241m=\u001B[39m \u001B[38;5;28;43mopen\u001B[39;49m\u001B[43m(\u001B[49m\u001B[43mfname\u001B[49m\u001B[43m,\u001B[49m\u001B[43m \u001B[49m\u001B[43mflag\u001B[49m\u001B[43m,\u001B[49m\u001B[43m \u001B[49m\u001B[43mencoding\u001B[49m\u001B[38;5;241;43m=\u001B[39;49m\u001B[43mencoding\u001B[49m\u001B[43m)\u001B[49m\n\u001B[1;32m    484\u001B[0m     opened \u001B[38;5;241m=\u001B[39m \u001B[38;5;28;01mTrue\u001B[39;00m\n\u001B[1;32m    485\u001B[0m \u001B[38;5;28;01melif\u001B[39;00m \u001B[38;5;28mhasattr\u001B[39m(fname, \u001B[38;5;124m'\u001B[39m\u001B[38;5;124mseek\u001B[39m\u001B[38;5;124m'\u001B[39m):\n",
      "\u001B[0;31mFileNotFoundError\u001B[0m: [Errno 2] No such file or directory: '../doc/water/fig/fig_population/global_water_withdrawal.pdf'"
     ]
    },
    {
     "data": {
      "text/plain": "<Figure size 650x401.722 with 2 Axes>",
      "image/png": "[encoded data removed]"
     },
     "metadata": {},
     "output_type": "display_data"
    }
   ],
   "source": [
    "# define time interval (first year where data is considered)\n",
    "TARGET_YEAR = 1990\n",
    "\n",
    "# three types of water withdrawal: agricultural, industrial and municipal water withdrawal\n",
    "\n",
    "'''relevant variables for us'''\n",
    "RELEVANT_VARS = ['Total water withdrawal', 'Municipal water withdrawal', 'Industrial water withdrawal',\n",
    "                 'Agricultural water withdrawal', 'Total population']\n",
    "'''filter countries (no filter if empty)'''\n",
    "FILTER_COUNTRIES = []\n",
    "\n",
    "data = df[['Country', 'Year', *RELEVANT_VARS]]\n",
    "if FILTER_COUNTRIES:\n",
    "    data = data[data['Country'].isin(FILTER_COUNTRIES)]\n",
    "data = data.dropna()\n",
    "\n",
    "years = df['Year'].unique()\n",
    "years = years[years >= TARGET_YEAR]\n",
    "\n",
    "years_np_arr = np.zeros(years.shape[0])\n",
    "water = np.zeros((years.shape[0], len(RELEVANT_VARS)))\n",
    "population = np.zeros(years.shape[0])\n",
    "\n",
    "for i, year in enumerate(years):\n",
    "    # filter dataframe w.r.t. year \n",
    "    years_np_arr[i] = year\n",
    "    df_filtered = data[data[\"Year\"] == year]\n",
    "    for j, var in enumerate(RELEVANT_VARS):\n",
    "        if var != 'Total population':\n",
    "            water[i, j] = df_filtered[var].sum()\n",
    "        else:\n",
    "            population[i] = df_filtered[var].sum()\n",
    "\n",
    "import logging\n",
    "\n",
    "logging.getLogger('matplotlib.font_manager').disabled = True\n",
    "\n",
    "#plt.rcParams.update(bundles.icml2022())\n",
    "plt.rcParams.update(bundles.icml2022(column='half', nrows=1, ncols=1))\n",
    "fig = plt.figure()\n",
    "ax = fig.add_subplot(1, 1, 1)\n",
    "\n",
    "ax.set_title('Global Freshwater Withdrawal')\n",
    "\n",
    "# Grid\n",
    "ax.grid(True, which='major', color=rgb.tue_gray, alpha=0.8, linewidth=0.1)\n",
    "\n",
    "# X-axis\n",
    "ax.set_xlabel('Year')\n",
    "ax.xaxis.set_ticks_position('both')\n",
    "ax.xaxis.set_minor_locator(plt.MultipleLocator(1))\n",
    "ax.set_ylabel(\"Freshwater Withdrawal ($10^9$ m$^3$/year)\")\n",
    "\n",
    "width = 0.6\n",
    "# ax.bar(years_np_arr - width / 2, water[:,0], width, color = rgb.tue_blue)\n",
    "ax.bar(years_np_arr, water[:, 3], bottom=water[:, 1] + water[:, 2], width=width, color=rgb.tue_green,\n",
    "       label='Agricultural Sector')\n",
    "ax.bar(years_np_arr, water[:, 2], bottom=water[:, 1], width=width, color='grey',\n",
    "       label='Industrial Sector')\n",
    "ax.bar(years_np_arr, water[:, 1], width=width, color=rgb.tue_orange, label='Municipal Sector')\n",
    "\n",
    "# plot population on second y-axis\n",
    "ax2 = ax.twinx()\n",
    "ax2.plot(years_np_arr, population * 1000 / 10 ** 9, color=rgb.tue_red, label='Population')\n",
    "\n",
    "# set axis scaling\n",
    "ax2.set_ylim(0, 1.5 * ax2.get_ylim()[1])\n",
    "ax.set_ylim(0, 1.5 * ax.get_ylim()[1])\n",
    "\n",
    "ax2.set_ylabel(\"Global Population ($10^9$)\")\n",
    "\n",
    "# Add source\n",
    "ax.text(0.99, 0.01, 'Source: FAO AQUASTAT', fontsize='xx-small', transform=ax.transAxes, ha='right', color=(0, 0, 0))\n",
    "\n",
    "# plot legends in one window\n",
    "lines, labels = ax.get_legend_handles_labels()\n",
    "lines2, labels2 = ax2.get_legend_handles_labels()\n",
    "ax2.legend(lines + lines2, labels + labels2, loc=0)\n",
    "\n",
    "if save_figs:\n",
    "    plt.savefig('../doc/water/fig/fig_population/global_water_withdrawal.pdf')"
   ]
  },
  {
   "cell_type": "markdown",
   "metadata": {},
   "source": [
    "One can clearly see, that there appears to be a connection between both variables. While the global population grew from roughly 4 to 8 billion people, the total freshwater withdrawal also almost doubled.\n",
    "\n",
    "Furthermore it is interesting to observe that a vast majority of the withdrawn water is used for agricultural purposes. Given the direct dependence of food production on population size, and considering that a substantial proportion of water withdrawal is attributed to agricultural activities, the correlation between freshwater withdrawal and population size appears evident.\n",
    "\n",
    "Refer to exp_agricultural_water_usage.ipynb for further analysis regarding agricultural water usage."
   ]
  },
  {
   "cell_type": "markdown",
   "metadata": {},
   "source": [
    "As a next step we compute the correlation between both variables and conduct a permutation test to further explore the influence of the population variable on the total water withdrawal."
   ]
  },
  {
   "cell_type": "code",
   "execution_count": null,
   "metadata": {
    "ExecuteTime": {
     "end_time": "2024-01-29T01:21:53.753333Z",
     "start_time": "2024-01-29T01:21:53.752620Z"
    }
   },
   "outputs": [],
   "source": [
    "# filter latest data for the year 2020\n",
    "filt_df = df[df['Year'] == 2020]\n",
    "# select relevant variables\n",
    "filt_df = filt_df[['Country', 'Total population', \"Total water withdrawal\"]]\n",
    "# drop all rows where no data is available (where NaNs occur)\n",
    "filt_df = filt_df.dropna()\n",
    "filt_df.head()"
   ]
  },
  {
   "cell_type": "markdown",
   "metadata": {},
   "source": [
    "Calculate Correlation between Total Water Withdrawal and Population"
   ]
  },
  {
   "cell_type": "code",
   "execution_count": null,
   "metadata": {
    "ExecuteTime": {
     "start_time": "2024-01-29T01:21:53.754096Z"
    }
   },
   "outputs": [],
   "source": [
    "corr = filt_df['Total population'].corr(filt_df['Total water withdrawal'])\n",
    "print(corr)"
   ]
  },
  {
   "cell_type": "markdown",
   "metadata": {},
   "source": [
    "The high correlation suggests that there is an important relation between The population of a country and its total water withdrawal.\n",
    "\n",
    "To further explore the coherence between the two variables a simple permutation test is constructed."
   ]
  },
  {
   "cell_type": "code",
   "execution_count": null,
   "metadata": {
    "ExecuteTime": {
     "start_time": "2024-01-29T01:21:53.755288Z"
    }
   },
   "outputs": [],
   "source": [
    "# transform dataframe to np array and remove country column\n",
    "data_arr = filt_df.to_numpy()[:, 1:]\n",
    "\n",
    "# find median of population to split the countries in two categories\n",
    "median = np.median(data_arr[:, 0])\n",
    "\n",
    "# reshuffle population count for permutation test\n",
    "rng = np.random.default_rng(1)  # random number generator\n",
    "\n",
    "B = 100000  # number of permuations to produce\n",
    "\n",
    "# repeat Y (one row) B times, shape now = (B, N), then shuffle the columns\n",
    "X = data_arr[:, 0]  # X is set to population count which is permuted\n",
    "Y = data_arr[:, 1]  # Y is set to total water withdrawal\n",
    "X_permuted = rng.permuted(np.tile(X, (B, 1)), axis=1)\n",
    "\n",
    "\n",
    "def T_mean(X):\n",
    "    # create mask based on whether permuted label is over or under median\n",
    "    group = np.where(X < median, True, False)\n",
    "\n",
    "    # compute difference in means\n",
    "    return np.mean(Y[group]) - np.mean(Y[~group])\n",
    "\n",
    "\n",
    "# compute mean difference for original data\n",
    "mean_true = T_mean(X)\n",
    "\n",
    "# compute mean difference for permuted data\n",
    "mean_dist = np.apply_along_axis(T_mean, 1, X_permuted)\n"
   ]
  },
  {
   "cell_type": "markdown",
   "metadata": {},
   "source": [
    "The Null Hypothesis ($H_0$) is defines as: \"The variable *population* has no effect on the *total water withdrawal*\""
   ]
  },
  {
   "cell_type": "markdown",
   "metadata": {},
   "source": [
    "For this permutation test we seperate the countries in two groups depending on their respective population. The selection criteria is the median population.\n",
    "Then the population lables are permuted.\n",
    "\n",
    "$$\n",
    "    Y_i = \\left\\{\\begin{array}{ll}\n",
    "        G_1 & X_i > median \\\\\n",
    "        G_2 & X_i \\leq median \\\\\n",
    "    \\end{array}\n",
    "    \\right. \n",
    "$$\n",
    "\n",
    "To compare the obtained results for both groups we apply the following metric:"
   ]
  },
  {
   "cell_type": "markdown",
   "metadata": {},
   "source": [
    "$$\n",
    "    T = \\left[ \\frac{1}{n} \\cdot \\sum_{i \\in G_1} Y_i \\right] - \\left[ \\frac{1}{n} \\cdot \\sum_{i \\in G_2} Y_i \\right] \n",
    "$$\n",
    "where $Y_i$ is a total water withdrawal sample of $G_1$ or $G_2$ respectively."
   ]
  },
  {
   "cell_type": "code",
   "execution_count": null,
   "metadata": {
    "ExecuteTime": {
     "end_time": "2024-01-29T01:21:53.758823Z",
     "start_time": "2024-01-29T01:21:53.756747Z"
    }
   },
   "outputs": [],
   "source": [
    "plt.rcParams.update(bundles.icml2022())\n",
    "fig = plt.figure()\n",
    "ax = fig.add_subplot(1, 1, 1)\n",
    "\n",
    "bins = np.linspace(-50, 50, 100)\n",
    "ax.set_title('Total Water Withdrawal: Mean Difference')\n",
    "ax.hist(mean_dist, bins=bins, density=True, label='$p_{H_0}(T)$', alpha=0.5, color=rgb.tue_dark)\n",
    "ax.axvline(mean_true, label='$T(X)$', alpha=1.0, color=rgb.tue_red)\n",
    "ax.legend(loc='upper right', frameon=False)\n",
    "#ax.yaxis.set_visible(False)\n",
    "ax.set_xlabel('$T$')\n",
    "\n",
    "if save_figs:\n",
    "    plt.savefig(to_fig_path('fig_population/fig_population/permutation_test.pdf'))"
   ]
  },
  {
   "cell_type": "markdown",
   "metadata": {},
   "source": [
    "When performing the test with $n = 100,000$ different permutations, the ditribution shown in the figure above is obtained. As one can see the histogram obtained when assuming the Null Hypothesis is true does not contain the actual observation $T(X)$. This means the $p$-value must be smaller than $1 \\cdot 10^{-5}$. Hence, we can reject the null hypothesis."
   ]
  },
  {
   "cell_type": "code",
   "execution_count": null,
   "metadata": {
    "ExecuteTime": {
     "start_time": "2024-01-29T01:21:53.757727Z"
    }
   },
   "outputs": [],
   "source": [
    "bins = np.linspace(-50, 50, 101)\n",
    "loc_data = np.argmax(bins >= mean_true)\n",
    "histogram, _ = np.histogram(mean_dist, bins=bins, density=True)\n",
    "empirical_cdf = (np.cumsum(histogram) / np.sum(histogram))\n",
    "\n",
    "p_value = empirical_cdf[loc_data]\n",
    "\n",
    "fig, ax = plt.subplots()\n",
    "ax.plot(bins[:-1], empirical_cdf, label='empirical CDF', color=rgb.tue_dark)\n",
    "ax.set_yscale('log')\n",
    "ax.axvline(mean_true, label='data', alpha=1.0, color=rgb.tue_red)\n",
    "ax.plot([-30, mean_true], [p_value, p_value], color=rgb.tue_gray, linestyle='-', marker=\"o\", ms=2, lw=0.6)\n",
    "ax.set_xlim(-50, 50)\n",
    "\n",
    "#ax.text(-20, 0.0001, f'$p$-value = {p_value:.1e}', fontsize=8)\n",
    "ax.set_xlabel(r'$T(X) = \\bar{y}_{G_1} - \\bar{y}_{G_2}$')\n",
    "ax.set_ylabel('approx. CDF of permutation distribution')\n",
    "\n",
    "if save_figs:\n",
    "    plt.savefig(to_fig_path('fig_population/fig_permutation_test_2.fig'))"
   ]
  }
 ],
 "metadata": {
  "kernelspec": {
   "display_name": "DataLiteracy",
   "language": "python",
   "name": "python3"
  },
  "language_info": {
   "codemirror_mode": {
    "name": "ipython",
    "version": 3
   },
   "file_extension": ".py",
   "mimetype": "text/x-python",
   "name": "python",
   "nbconvert_exporter": "python",
   "pygments_lexer": "ipython3",
   "version": "3.10.13"
  }
 },
 "nbformat": 4,
 "nbformat_minor": 2
}
