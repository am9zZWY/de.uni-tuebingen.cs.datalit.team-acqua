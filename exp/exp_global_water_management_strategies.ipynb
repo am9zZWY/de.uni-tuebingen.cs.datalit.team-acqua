{
 "cells": [
  {
   "cell_type": "markdown",
   "id": "4aba66c377e0e75",
   "metadata": {
    "collapsed": false
   },
   "source": [
    "# Experiment: Explore Water Management Strategies\n",
    "\n",
    "Water Management is a complex topic. It involves many different actors, from the government to the private sector, and many different strategies, from water pricing to water reuse. In this experiment, we will explore the different strategies that countries have adopted to manage their water resources.\n",
    "\n",
    "Especially, Waste Water Treatment and Reuse are important topics."
   ]
  },
  {
   "cell_type": "code",
   "outputs": [
    {
     "name": "stdout",
     "output_type": "stream",
     "text": [
      "Getting AQUASTAT dataframe from /Users/josef/Sync/Dokumente/SCHULE/Master/UT/Vorlesungen/Sem2/Data_Literacy/Paper/src/../dat/fao_aquastat.csv ...\n",
      "/Users/josef/Sync/Dokumente/SCHULE/Master/UT/Vorlesungen/Sem2/Data_Literacy/Paper/src/../dat/fao_aquastat.csv already exists.\n"
     ]
    }
   ],
   "source": [
    "from src.aquastat_utils import get_aquastat\n",
    "\n",
    "# Import AQUASTAT\n",
    "aquastat_df = get_aquastat()"
   ],
   "metadata": {
    "collapsed": false,
    "ExecuteTime": {
     "end_time": "2024-01-19T19:45:18.089864Z",
     "start_time": "2024-01-19T19:45:16.916355Z"
    }
   },
   "id": "90b876d01cb86aa8",
   "execution_count": 8
  },
  {
   "cell_type": "code",
   "execution_count": 9,
   "id": "a20f1db8ab62e2a2",
   "metadata": {
    "collapsed": false,
    "ExecuteTime": {
     "end_time": "2024-01-19T19:45:18.094427Z",
     "start_time": "2024-01-19T19:45:18.091196Z"
    }
   },
   "outputs": [
    {
     "data": {
      "text/plain": "['% of area equipped for irrigation by direct use of  treated municipal wastewater',\n '% of area equipped for irrigation by direct use of non-treated municipal wastewater',\n 'Area equipped for irrigation by direct use of non-treated municipal wastewater ',\n 'Area equipped for irrigation by direct use of not treated municipal wastewater',\n 'Area equipped for irrigation by direct use of treated municipal wastewater',\n 'Capacity of the municipal wastewater treatment facilities',\n 'Collected municipal wastewater',\n 'Direct use of not treated municipal wastewater for irrigation purposes',\n 'Direct use of treated municipal wastewater',\n 'Direct use of treated municipal wastewater for irrigation purposes',\n 'Not treated municipal wastewater',\n 'Not treated municipal wastewater discharged (secondary water)',\n 'Number of municipal wastewater treatment facilities',\n 'Produced municipal wastewater',\n 'Treated municipal wastewater',\n 'Treated municipal wastewater discharged (secondary water)']"
     },
     "execution_count": 9,
     "metadata": {},
     "output_type": "execute_result"
    }
   ],
   "source": [
    "# Filter interesting variables\n",
    "filter_for = ['waste', 'reuse', 'treatment']\n",
    "\n",
    "filtered_columns = [column for column in aquastat_df.columns if any([x in column.lower() for x in filter_for])]\n",
    "filtered_columns"
   ]
  },
  {
   "cell_type": "markdown",
   "source": [
    "We know have a list of variables related to waste water and treatment. Let's explore them."
   ],
   "metadata": {
    "collapsed": false
   },
   "id": "4c7f45454dd363a0"
  },
  {
   "cell_type": "code",
   "execution_count": 33,
   "id": "a3f6d6fd9b637ae3",
   "metadata": {
    "collapsed": false,
    "ExecuteTime": {
     "end_time": "2024-01-19T19:54:50.941554Z",
     "start_time": "2024-01-19T19:54:50.929763Z"
    }
   },
   "outputs": [
    {
     "data": {
      "text/plain": "Variable                  Year  \\\nCountry                          \nUnited States of America  2004   \nUnited States of America  2003   \nUnited States of America  2002   \nUnited States of America  2001   \nUnited States of America  2000   \n...                        ...   \nTurkmenistan              2015   \nTurkmenistan              2016   \nTurkmenistan              2017   \nTurkmenistan              2018   \nAlbania                   2005   \n\nVariable                  Number of municipal wastewater treatment facilities  \nCountry                                                                        \nUnited States of America                                            16583.0    \nUnited States of America                                            16501.0    \nUnited States of America                                            16419.0    \nUnited States of America                                            16337.0    \nUnited States of America                                            16255.0    \n...                                                                     ...    \nTurkmenistan                                                            1.0    \nTurkmenistan                                                            1.0    \nTurkmenistan                                                            1.0    \nTurkmenistan                                                            1.0    \nAlbania                                                                 1.0    \n\n[1481 rows x 2 columns]",
      "text/html": "<div>\n<style scoped>\n    .dataframe tbody tr th:only-of-type {\n        vertical-align: middle;\n    }\n\n    .dataframe tbody tr th {\n        vertical-align: top;\n    }\n\n    .dataframe thead th {\n        text-align: right;\n    }\n</style>\n<table border=\"1\" class=\"dataframe\">\n  <thead>\n    <tr style=\"text-align: right;\">\n      <th>Variable</th>\n      <th>Year</th>\n      <th>Number of municipal wastewater treatment facilities</th>\n    </tr>\n    <tr>\n      <th>Country</th>\n      <th></th>\n      <th></th>\n    </tr>\n  </thead>\n  <tbody>\n    <tr>\n      <th>United States of America</th>\n      <td>2004</td>\n      <td>16583.0</td>\n    </tr>\n    <tr>\n      <th>United States of America</th>\n      <td>2003</td>\n      <td>16501.0</td>\n    </tr>\n    <tr>\n      <th>United States of America</th>\n      <td>2002</td>\n      <td>16419.0</td>\n    </tr>\n    <tr>\n      <th>United States of America</th>\n      <td>2001</td>\n      <td>16337.0</td>\n    </tr>\n    <tr>\n      <th>United States of America</th>\n      <td>2000</td>\n      <td>16255.0</td>\n    </tr>\n    <tr>\n      <th>...</th>\n      <td>...</td>\n      <td>...</td>\n    </tr>\n    <tr>\n      <th>Turkmenistan</th>\n      <td>2015</td>\n      <td>1.0</td>\n    </tr>\n    <tr>\n      <th>Turkmenistan</th>\n      <td>2016</td>\n      <td>1.0</td>\n    </tr>\n    <tr>\n      <th>Turkmenistan</th>\n      <td>2017</td>\n      <td>1.0</td>\n    </tr>\n    <tr>\n      <th>Turkmenistan</th>\n      <td>2018</td>\n      <td>1.0</td>\n    </tr>\n    <tr>\n      <th>Albania</th>\n      <td>2005</td>\n      <td>1.0</td>\n    </tr>\n  </tbody>\n</table>\n<p>1481 rows × 2 columns</p>\n</div>"
     },
     "execution_count": 33,
     "metadata": {},
     "output_type": "execute_result"
    }
   ],
   "source": [
    "# Get for each country the number of municipal wastewater treatment facilities\n",
    "\n",
    "# Create a new dataframe with only the columns we are interested in\n",
    "countries = aquastat_df['Country'].unique()\n",
    "interesting_var = 'Number of municipal wastewater treatment facilities'\n",
    "\n",
    "waste_df = aquastat_df[['Country', 'Year', interesting_var]]\n",
    "waste_df = waste_df.dropna()  # Drop rows with missing values\n",
    "waste_df = waste_df.set_index('Country')  # Set the country as index\n",
    "waste_df = waste_df.sort_values(by=interesting_var, ascending=False)  # Sort by number of facilities\n",
    "waste_df"
   ]
  },
  {
   "cell_type": "markdown",
   "source": [
    "# TODOS\n",
    "\n",
    "- Plot the development of the number of facilities over time\n",
    "- Plot the number of facilities per capita\n",
    "- [HydroWASTE](https://www.hydrosheds.org/products/hydrowaste):\n",
    "    - Download the data\n",
    "    - Explore the data:\n",
    "        - A nice map of the world\n",
    "        - The more facilities, the more water is treated?\n",
    "            - Plot the number of facilities against the water withdrawal\n",
    "            - What about the countries that face water scarcity?\n",
    "                - Plot the number of facilities against the water scarcity: facility / water scarcity -> should be normalized by water stress (water scarcity / water availability)  "
   ],
   "metadata": {
    "collapsed": false
   },
   "id": "1b4d30b386a1d756"
  },
  {
   "cell_type": "code",
   "outputs": [],
   "source": [],
   "metadata": {
    "collapsed": false
   },
   "id": "d58b438b85080f7c"
  }
 ],
 "metadata": {
  "kernelspec": {
   "display_name": "Python 3",
   "language": "python",
   "name": "python3"
  },
  "language_info": {
   "codemirror_mode": {
    "name": "ipython",
    "version": 3
   },
   "file_extension": ".py",
   "mimetype": "text/x-python",
   "name": "python",
   "nbconvert_exporter": "python",
   "pygments_lexer": "ipython3",
   "version": "3.11.5"
  }
 },
 "nbformat": 4,
 "nbformat_minor": 5
}
