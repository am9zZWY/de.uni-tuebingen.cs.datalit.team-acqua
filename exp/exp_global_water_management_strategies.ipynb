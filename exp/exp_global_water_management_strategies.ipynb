{
 "cells": [
  {
   "cell_type": "markdown",
   "id": "a3aaaa1379f8515",
   "metadata": {
    "collapsed": false
   },
   "source": [
    "# Experiment: Explore Water Management Strategies\n",
    "\n",
    "Water Management is a complex topic. It involves many different actors, from the government to the private sector, and many different strategies, from water pricing to water reuse. In this experiment, we will explore the different strategies that countries have adopted to manage their water resources.\n",
    "\n",
    "Especially, Waste Water Treatment and Reuse are important topics."
   ]
  },
  {
   "cell_type": "code",
   "execution_count": 91,
   "id": "90b876d01cb86aa8",
   "metadata": {
    "ExecuteTime": {
     "end_time": "2024-01-24T17:41:31.207127Z",
     "start_time": "2024-01-24T17:41:29.800856Z"
    }
   },
   "outputs": [
    {
     "name": "stdout",
     "output_type": "stream",
     "text": [
      "Getting AQUASTAT dataframe from fao_aquastat.csv ...\n",
      "/Users/josef/Sync/Dokumente/SCHULE/Master/UT/Vorlesungen/Sem2/Data_Literacy/Paper/src/../dat/fao_aquastat.csv already exists.\n",
      "Renaming countries ...\n"
     ]
    }
   ],
   "source": [
    "import sys\n",
    "import os\n",
    "sys.path.insert(1, os.path.abspath(os.getcwd()[:-3]))\n",
    "\n",
    "from src.aquastat_utils import *\n",
    "\n",
    "# Import AQUASTAT\n",
    "aquastat_df = get_aquastat()"
   ]
  },
  {
   "cell_type": "code",
   "outputs": [],
   "source": [
    "import pandas as pd\n",
    "import matplotlib.pyplot as plt\n",
    "import seaborn as sns\n",
    "from matplotlib.colors import LinearSegmentedColormap\n",
    "from tueplots import bundles\n",
    "\n",
    "plt.rcParams.update(bundles.icml2022())\n",
    "plt.rcParams.update({\"figure.dpi\": 200})\n",
    "\n",
    "# colormap for spatial plot\n",
    "rb = LinearSegmentedColormap.from_list(\n",
    "    \"rb\",\n",
    "    [[0, 0, 153 / 255], [50 / 255, 150 / 255, 255 / 255], [1, 1, 1], [255 / 255, 102 / 255, 0], [153 / 255, 0, 0]],\n",
    "    N=500\n",
    ")\n"
   ],
   "metadata": {
    "collapsed": false
   },
   "id": "2499f4deb8ecda0a"
  },
  {
   "cell_type": "code",
   "outputs": [],
   "source": [
    "# Filter interesting variables\n",
    "filter_for = ['waste', 'reuse', 'treatment']  # variables interesting for waste water treatment\n",
    "filter_for = ['waste']\n",
    "\n",
    "filtered_columns = [column for column in aquastat_df.columns if any([x in column.lower() for x in filter_for])]\n",
    "filtered_columns"
   ],
   "metadata": {
    "collapsed": false
   },
   "id": "cf034f74eb650bf5"
  },
  {
   "cell_type": "markdown",
   "source": [
    "We now have a list of variables related to waste water and treatment. Let's explore them."
   ],
   "metadata": {
    "collapsed": false
   },
   "id": "f66bd25053090cb2"
  },
  {
   "cell_type": "code",
   "outputs": [],
   "source": [
    "# Get for each country the number of municipal wastewater treatment facilities\n",
    "\n",
    "# Create a new dataframe with only the columns we are interested in\n",
    "interesting_var = 'Number of municipal wastewater treatment facilities'\n",
    "\n",
    "waste_df = aquastat_df[['Country', 'Year', interesting_var]]\n",
    "waste_df = waste_df.dropna()  # Drop rows with missing values\n",
    "waste_df = waste_df.sort_values(by=interesting_var, ascending=False)  # Sort by number of facilities\n",
    "\n",
    "waste_df"
   ],
   "metadata": {
    "collapsed": false
   },
   "id": "104f82bde36bdac6"
  },
  {
   "cell_type": "markdown",
   "source": [
    "The total number is not very interesting to us so lets look at facilities per capita.\n",
    "We dont want to look at to small numbers so per 1000 people seems appropriate"
   ],
   "metadata": {
    "collapsed": false
   },
   "id": "e0fee4ac77f0e513"
  },
  {
   "cell_type": "code",
   "outputs": [],
   "source": [
    "'''Get facilities per n citizens'''\n",
    "waste_df['Total population'] = aquastat_df['Total population']\n",
    "n = 1000\n",
    "waste_df[f'{interesting_var} per {n} citizens'] = (waste_df[interesting_var] / waste_df['Total population']) * n\n",
    "waste_df"
   ],
   "metadata": {
    "collapsed": false
   },
   "id": "47b918e41318678a"
  },
  {
   "cell_type": "markdown",
   "source": [
    "Plot the development of the number of facilities over time"
   ],
   "metadata": {
    "collapsed": false
   },
   "id": "e8a1dcd199878d0a"
  },
  {
   "cell_type": "code",
   "outputs": [],
   "source": [
    "'''Just for testing'''\n",
    "sns.scatterplot(data=waste_df[waste_df['Country'] == 'Canada'], x='Year',\n",
    "                y='Number of municipal wastewater treatment facilities')\n",
    "plt.show()"
   ],
   "metadata": {
    "collapsed": false
   },
   "id": "9ddfa1ab79d0c59f"
  },
  {
   "cell_type": "code",
   "outputs": [],
   "source": [
    "import numpy as np\n",
    "import geopandas as gpd\n",
    "from src.utils import to_dat_path, save_fig\n",
    "\n",
    "\n",
    "def get_growth_rate(series, log_scale=False):\n",
    "    \"\"\"\n",
    "    Calculate the relative growth rate of a series.\n",
    "    !! It only looks at the first and last value in series !!\n",
    "    :param series: series to calculate relative growth rate for.\n",
    "    :return: Relative growth rate.\n",
    "    \"\"\"\n",
    "    y = series.values\n",
    "    rate = ((y[-1] - y[0]) / y[0]) * 100\n",
    "    if log_scale:\n",
    "        rate = np.log(rate)\n",
    "\n",
    "    return rate\n",
    "\n",
    "\n",
    "def plot_growth_rates(\n",
    "        data: pd.DataFrame,\n",
    "        variable: str,\n",
    "        cmap: str = 'coolwarm_r',\n",
    "        title_var: str = None,\n",
    "        log_scale: bool = False\n",
    "):\n",
    "    \"\"\"\n",
    "    Plot relative growth rates for a variable on a world map.\n",
    "    :param data: Dataframe containing countries, years and variables to plot.\n",
    "    :param variable: Variable to plot.\n",
    "    :param cmap: Preferred colormap for plotting. The Standard is 'coolwarm_r'.\n",
    "    :param title_var: Preferred form of variable in title.\n",
    "    :param log_scale: Whether to use a log scale for the growth rates.\n",
    "    :return: Nothing\n",
    "    \"\"\"\n",
    "\n",
    "    font_size = 15\n",
    "\n",
    "    '''Get Rates'''\n",
    "    # Pivot the DataFrame to have years as the index and countries as columns\n",
    "    df_pivot = data.pivot(index='Year', columns='Country', values=variable).dropna()\n",
    "    # Apply the function to calculate growth rate for each country\n",
    "    rates = df_pivot.apply(get_growth_rate, log_scale=log_scale)\n",
    "    # Convert the results to a DataFrame\n",
    "    rates_df = rates.reset_index(name='Relative growth rate')\n",
    "\n",
    "    # Get map\n",
    "    world = gpd.read_file(to_dat_path(file_path='naturalearth/ne_110m_admin_0_countries.shx'), engine=\"pyogrio\")\n",
    "    # Join Data to map\n",
    "    merged = world.set_index('SOVEREIGNT').join(rates_df.set_index('Country'))\n",
    "    vmax = max(abs(merged['Relative growth rate'].min()), merged['Relative growth rate'].min())\n",
    "\n",
    "    # Plotting\n",
    "    fig, ax = plt.subplots(1, 1, figsize=(15, 10))\n",
    "    merged.plot(\n",
    "        column='Relative growth rate',\n",
    "        ax=ax, legend=True,\n",
    "        missing_kwds={\"color\": \"darkgrey\", \"label\": \"No Data\", },\n",
    "        cmap=cmap, vmin=-vmax, vmax=vmax,\n",
    "        legend_kwds={\n",
    "            'label': \"Relative Growth Rate\",\n",
    "            'orientation': \"horizontal\",\n",
    "        }\n",
    "    )\n",
    "\n",
    "    # Set title\n",
    "    years = df_pivot.index\n",
    "    if title_var is None:\n",
    "        title_var = f'Relative Growth of {variable} ({years.min()} - {years.max()})'\n",
    "    ax.set_title(title_var, fontsize=20)\n",
    "\n",
    "    # Change font sizes\n",
    "    cbar = fig.axes[-1]\n",
    "    cbar.set_xlabel('Relative Growth Rate', fontsize=font_size)\n",
    "    for label in cbar.get_xticklabels():\n",
    "        label.set_fontsize(15)\n",
    "\n",
    "    # Create a custom legend patch for \"No Data\"\n",
    "    no_data_patch = mpatches.Patch(color='darkgrey', label='No Data')\n",
    "    plt.legend(handles=[no_data_patch], loc='upper right', fontsize=font_size)\n",
    "\n",
    "    # Remove axis\n",
    "    plt.axis('off')\n",
    "\n",
    "    # Save figure\n",
    "    plt.show()\n",
    "    save_fig(fig, f'growth_rate_{variable.replace(\" \", \"_\")}', 'water_management', experimental=True)"
   ],
   "metadata": {
    "collapsed": false
   },
   "id": "15d6d258cc81aaa8"
  },
  {
   "cell_type": "code",
   "outputs": [],
   "source": [
    "plot_growth_rates(\n",
    "    waste_df,\n",
    "    'Number of municipal wastewater treatment facilities per 1000 citizens',\n",
    "    'coolwarm_r',\n",
    "    'Municipal Wastewater Treatment Facilities Per 1000 Citizens'\n",
    ")"
   ],
   "metadata": {
    "collapsed": false
   },
   "id": "fc42a58ec049c407"
  },
  {
   "cell_type": "code",
   "outputs": [],
   "source": [
    "plot_growth_rates(\n",
    "    waste_df,\n",
    "    'Number of municipal wastewater treatment facilities',\n",
    "    'coolwarm_r',\n",
    "    'Total Number of Municipal Wastewater Treatment Facilities'\n",
    ")"
   ],
   "metadata": {
    "collapsed": false
   },
   "id": "c6024bfa806d3b65"
  },
  {
   "cell_type": "markdown",
   "source": [
    "It's odd to see that so many countries have a negative (redish) or a stagnant (dark grey) growth rate which means they stopped building facilities in the last years. Is there a reason for that? Maybe the water stress did not increase in these countries?\n",
    "\n",
    "Water stress (SDG 6.4.2) is defined as the ratio of total water withdrawals to available renewable freshwater resources."
   ],
   "metadata": {
    "collapsed": false
   },
   "id": "7355868ef5862028"
  },
  {
   "cell_type": "code",
   "outputs": [],
   "source": [
    "# Filter interesting variables\n",
    "filter_for = ['stress']\n",
    "\n",
    "filtered_columns = [column for column in aquastat_df.columns if any([x in column.lower() for x in filter_for])]\n",
    "filtered_columns"
   ],
   "metadata": {
    "collapsed": false
   },
   "id": "1dc90fdd28b0d806"
  },
  {
   "cell_type": "code",
   "outputs": [],
   "source": [
    "# Plot the water quality for each country\n",
    "# The countries that have a negative slope and a bad water quality, are the ones we are interested in\n",
    "\n",
    "# Create a new dataframe with only the columns we are interested in\n",
    "interesting_var = 'SDG 6.4.2. Water Stress'\n",
    "\n",
    "stress_df = aquastat_df[['Country', 'Year', interesting_var]]\n",
    "stress_df = stress_df.dropna()  # Drop rows with missing values\n",
    "stress_df = stress_df.sort_values(by=interesting_var, ascending=False)  # Sort by number of facilities\n",
    "\n",
    "stress_df"
   ],
   "metadata": {
    "collapsed": false
   },
   "id": "8828cffaa39596ea"
  },
  {
   "cell_type": "code",
   "outputs": [],
   "source": [
    "'''Just for testing'''\n",
    "sns.scatterplot(data=stress_df[stress_df['Country'] == 'Mexico'], x='Year',\n",
    "                y='SDG 6.4.2. Water Stress')\n",
    "plt.show()"
   ],
   "metadata": {
    "collapsed": false
   },
   "id": "3f8c63f4ea85a5e4"
  },
  {
   "cell_type": "code",
   "outputs": [],
   "source": [
    "plot_growth_rates(\n",
    "    stress_df,\n",
    "    'SDG 6.4.2. Water Stress',\n",
    "    'coolwarm',\n",
    "    'Water Stress'\n",
    ")\n"
   ],
   "metadata": {
    "collapsed": false
   },
   "id": "f9361abd8bc99689"
  },
  {
   "cell_type": "markdown",
   "source": [
    "it could be also interesting to look how their wastewater output has changed."
   ],
   "metadata": {
    "collapsed": false
   },
   "id": "a3a43cbd566bf92b"
  },
  {
   "cell_type": "code",
   "outputs": [],
   "source": [
    "# Create a new dataframe with only the columns we are interested in\n",
    "interesting_var = 'Produced municipal wastewater'\n",
    "\n",
    "wwater_df = aquastat_df[['Country', 'Year', interesting_var]]\n",
    "wwater_df = wwater_df.dropna()  # Drop rows with missing values\n",
    "wwater_df = wwater_df.sort_values(by=interesting_var, ascending=False)  # Sort by number of facilities\n",
    "\n",
    "wwater_df"
   ],
   "metadata": {
    "collapsed": false
   },
   "id": "bdf1df93d9d16a21"
  },
  {
   "cell_type": "code",
   "outputs": [],
   "source": [
    "plot_growth_rates(\n",
    "    wwater_df,\n",
    "    interesting_var,\n",
    "    'coolwarm',\n",
    "    'Produced Municipal Wastewater'\n",
    ")"
   ],
   "metadata": {
    "collapsed": false
   },
   "id": "321a9c269c497e69"
  },
  {
   "cell_type": "markdown",
   "source": [],
   "metadata": {
    "collapsed": false
   },
   "id": "ec9157a30ed76f18"
  },
  {
   "cell_type": "markdown",
   "source": [
    "What we see is that most countries don't face a change in produced waste water."
   ],
   "metadata": {
    "collapsed": false
   },
   "id": "5f688a9d7dc9e1ca"
  },
  {
   "cell_type": "code",
   "outputs": [],
   "source": [],
   "metadata": {
    "collapsed": false
   },
   "id": "2104a7e6fb2be0c"
  },
  {
   "cell_type": "markdown",
   "id": "1b4d30b386a1d756",
   "metadata": {},
   "source": [
    "# TODOS\n",
    "\n",
    "- Plot the development of the number of facilities over time\n",
    "- Plot the number of facilities per capita\n",
    "- [HydroWASTE](https://www.hydrosheds.org/products/hydrowaste):\n",
    "    - Download the data\n",
    "    - Explore the data:\n",
    "        - A nice map of the world\n",
    "        - The more facilities, the more water is treated?\n",
    "            - Plot the number of facilities against the water withdrawal\n",
    "            - What about the countries that face water scarcity?\n",
    "                - Plot the number of facilities against the water scarcity: facility / water scarcity -> should be normalized by water stress (water scarcity / water availability)  "
   ]
  }
 ],
 "metadata": {
  "kernelspec": {
   "display_name": "Python 3 (ipykernel)",
   "language": "python",
   "name": "python3"
  },
  "language_info": {
   "codemirror_mode": {
    "name": "ipython",
    "version": 3
   },
   "file_extension": ".py",
   "mimetype": "text/x-python",
   "name": "python",
   "nbconvert_exporter": "python",
   "pygments_lexer": "ipython3",
   "version": "3.9.9"
  }
 },
 "nbformat": 4,
 "nbformat_minor": 5
}
