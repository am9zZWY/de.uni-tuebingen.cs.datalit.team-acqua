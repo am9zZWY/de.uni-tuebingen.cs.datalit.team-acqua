{
 "cells": [
  {
   "cell_type": "markdown",
   "id": "2d90a505efa5e6a4",
   "metadata": {
    "collapsed": false
   },
   "source": [
    "# Experiment: Play with FAO Aquastat Data"
   ]
  },
  {
   "cell_type": "code",
   "execution_count": 1,
   "id": "68e39ba040a0ee82",
   "metadata": {
    "collapsed": false,
    "ExecuteTime": {
     "end_time": "2024-01-29T01:09:55.410721Z",
     "start_time": "2024-01-29T01:09:52.914051Z"
    }
   },
   "outputs": [
    {
     "name": "stdout",
     "output_type": "stream",
     "text": [
      "Getting AQUASTAT dataframe from fao_aquastat.csv ...\n",
      "/Users/josef/Sync/Dokumente/SCHULE/Master/UT/Vorlesungen/Sem2/Data_Literacy/Paper/src/../dat/fao_aquastat.csv already exists.\n",
      "Getting AQUASTAT dataframe from fao_aquastat.csv ...\n",
      "/Users/josef/Sync/Dokumente/SCHULE/Master/UT/Vorlesungen/Sem2/Data_Literacy/Paper/src/../dat/fao_aquastat.csv already exists.\n",
      "Renaming countries ...\n"
     ]
    },
    {
     "data": {
      "text/plain": "Variable      Country  Year  \\\n0         Afghanistan  1964   \n1         Afghanistan  1965   \n2         Afghanistan  1966   \n3         Afghanistan  1967   \n4         Afghanistan  1968   \n\nVariable  % of agricultural GVA produced by irrigated agriculture  \\\n0                                                       NaN         \n1                                                       NaN         \n2                                                       NaN         \n3                                                       NaN         \n4                                                       NaN         \n\nVariable  % of agricultural water managed area equipped for irrigation  \\\n0                                                       NaN              \n1                                                       NaN              \n2                                                       NaN              \n3                                                     100.0              \n4                                                     100.0              \n\nVariable  % of area equipped for full control irrigation actually irrigated  \\\n0                                                       NaN                   \n1                                                       NaN                   \n2                                                       NaN                   \n3                                                       NaN                   \n4                                                       NaN                   \n\nVariable  % of area equipped for irrigation by desalinated water  \\\n0                                                       NaN        \n1                                                       NaN        \n2                                                       NaN        \n3                                                       NaN        \n4                                                       NaN        \n\nVariable  % of area equipped for irrigation by direct use of  treated municipal wastewater  \\\n0                                                       NaN                                  \n1                                                       NaN                                  \n2                                                       NaN                                  \n3                                                       NaN                                  \n4                                                       NaN                                  \n\nVariable  % of area equipped for irrigation by direct use of agricultural drainage water   \\\n0                                                       NaN                                 \n1                                                       NaN                                 \n2                                                       NaN                                 \n3                                                       NaN                                 \n4                                                       NaN                                 \n\nVariable  % of area equipped for irrigation by direct use of non-treated municipal wastewater  \\\n0                                                       NaN                                     \n1                                                       NaN                                     \n2                                                       NaN                                     \n3                                                       NaN                                     \n4                                                       NaN                                     \n\nVariable  % of area equipped for irrigation by groundwater   ...  \\\n0                                                       NaN  ...   \n1                                                       NaN  ...   \n2                                                       NaN  ...   \n3                                                 15.399632  ...   \n4                                                 15.461053  ...   \n\nVariable  Total water withdrawal  Total water withdrawal per capita  \\\n0                            NaN                                NaN   \n1                            NaN                                NaN   \n2                            NaN                                NaN   \n3                            NaN                                NaN   \n4                            NaN                                NaN   \n\nVariable  Treated municipal wastewater  \\\n0                                  NaN   \n1                                  NaN   \n2                                  NaN   \n3                                  NaN   \n4                                  NaN   \n\nVariable  Treated municipal wastewater discharged (secondary water)  \\\n0                                                       NaN           \n1                                                       NaN           \n2                                                       NaN           \n3                                                       NaN           \n4                                                       NaN           \n\nVariable  Urban population  \\\n0                  932.865   \n1                  984.350   \n2                 1038.852   \n3                 1096.428   \n4                 1157.827   \n\nVariable  Urban population with access to safe drinking-water (JMP)  \\\n0                                                       NaN           \n1                                                       NaN           \n2                                                       NaN           \n3                                                       NaN           \n4                                                       NaN           \n\nVariable  Water resources: total external renewable  \\\n0                                             18.18   \n1                                             18.18   \n2                                             18.18   \n3                                             18.18   \n4                                             18.18   \n\nVariable  Water withdrawal for aquaculture  \\\n0                                      NaN   \n1                                      NaN   \n2                                      NaN   \n3                                      NaN   \n4                                      NaN   \n\nVariable  Water withdrawal for cooling of thermoelectric plants  \\\n0                                                       NaN       \n1                                                       NaN       \n2                                                       NaN       \n3                                                       NaN       \n4                                                       NaN       \n\nVariable  Water withdrawal for livestock (watering and cleaning)  \n0                                                       NaN       \n1                                                       NaN       \n2                                                       NaN       \n3                                                       NaN       \n4                                                       NaN       \n\n[5 rows x 194 columns]",
      "text/html": "<div>\n<style scoped>\n    .dataframe tbody tr th:only-of-type {\n        vertical-align: middle;\n    }\n\n    .dataframe tbody tr th {\n        vertical-align: top;\n    }\n\n    .dataframe thead th {\n        text-align: right;\n    }\n</style>\n<table border=\"1\" class=\"dataframe\">\n  <thead>\n    <tr style=\"text-align: right;\">\n      <th>Variable</th>\n      <th>Country</th>\n      <th>Year</th>\n      <th>% of agricultural GVA produced by irrigated agriculture</th>\n      <th>% of agricultural water managed area equipped for irrigation</th>\n      <th>% of area equipped for full control irrigation actually irrigated</th>\n      <th>% of area equipped for irrigation by desalinated water</th>\n      <th>% of area equipped for irrigation by direct use of  treated municipal wastewater</th>\n      <th>% of area equipped for irrigation by direct use of agricultural drainage water</th>\n      <th>% of area equipped for irrigation by direct use of non-treated municipal wastewater</th>\n      <th>% of area equipped for irrigation by groundwater</th>\n      <th>...</th>\n      <th>Total water withdrawal</th>\n      <th>Total water withdrawal per capita</th>\n      <th>Treated municipal wastewater</th>\n      <th>Treated municipal wastewater discharged (secondary water)</th>\n      <th>Urban population</th>\n      <th>Urban population with access to safe drinking-water (JMP)</th>\n      <th>Water resources: total external renewable</th>\n      <th>Water withdrawal for aquaculture</th>\n      <th>Water withdrawal for cooling of thermoelectric plants</th>\n      <th>Water withdrawal for livestock (watering and cleaning)</th>\n    </tr>\n  </thead>\n  <tbody>\n    <tr>\n      <th>0</th>\n      <td>Afghanistan</td>\n      <td>1964</td>\n      <td>NaN</td>\n      <td>NaN</td>\n      <td>NaN</td>\n      <td>NaN</td>\n      <td>NaN</td>\n      <td>NaN</td>\n      <td>NaN</td>\n      <td>NaN</td>\n      <td>...</td>\n      <td>NaN</td>\n      <td>NaN</td>\n      <td>NaN</td>\n      <td>NaN</td>\n      <td>932.865</td>\n      <td>NaN</td>\n      <td>18.18</td>\n      <td>NaN</td>\n      <td>NaN</td>\n      <td>NaN</td>\n    </tr>\n    <tr>\n      <th>1</th>\n      <td>Afghanistan</td>\n      <td>1965</td>\n      <td>NaN</td>\n      <td>NaN</td>\n      <td>NaN</td>\n      <td>NaN</td>\n      <td>NaN</td>\n      <td>NaN</td>\n      <td>NaN</td>\n      <td>NaN</td>\n      <td>...</td>\n      <td>NaN</td>\n      <td>NaN</td>\n      <td>NaN</td>\n      <td>NaN</td>\n      <td>984.350</td>\n      <td>NaN</td>\n      <td>18.18</td>\n      <td>NaN</td>\n      <td>NaN</td>\n      <td>NaN</td>\n    </tr>\n    <tr>\n      <th>2</th>\n      <td>Afghanistan</td>\n      <td>1966</td>\n      <td>NaN</td>\n      <td>NaN</td>\n      <td>NaN</td>\n      <td>NaN</td>\n      <td>NaN</td>\n      <td>NaN</td>\n      <td>NaN</td>\n      <td>NaN</td>\n      <td>...</td>\n      <td>NaN</td>\n      <td>NaN</td>\n      <td>NaN</td>\n      <td>NaN</td>\n      <td>1038.852</td>\n      <td>NaN</td>\n      <td>18.18</td>\n      <td>NaN</td>\n      <td>NaN</td>\n      <td>NaN</td>\n    </tr>\n    <tr>\n      <th>3</th>\n      <td>Afghanistan</td>\n      <td>1967</td>\n      <td>NaN</td>\n      <td>100.0</td>\n      <td>NaN</td>\n      <td>NaN</td>\n      <td>NaN</td>\n      <td>NaN</td>\n      <td>NaN</td>\n      <td>15.399632</td>\n      <td>...</td>\n      <td>NaN</td>\n      <td>NaN</td>\n      <td>NaN</td>\n      <td>NaN</td>\n      <td>1096.428</td>\n      <td>NaN</td>\n      <td>18.18</td>\n      <td>NaN</td>\n      <td>NaN</td>\n      <td>NaN</td>\n    </tr>\n    <tr>\n      <th>4</th>\n      <td>Afghanistan</td>\n      <td>1968</td>\n      <td>NaN</td>\n      <td>100.0</td>\n      <td>NaN</td>\n      <td>NaN</td>\n      <td>NaN</td>\n      <td>NaN</td>\n      <td>NaN</td>\n      <td>15.461053</td>\n      <td>...</td>\n      <td>NaN</td>\n      <td>NaN</td>\n      <td>NaN</td>\n      <td>NaN</td>\n      <td>1157.827</td>\n      <td>NaN</td>\n      <td>18.18</td>\n      <td>NaN</td>\n      <td>NaN</td>\n      <td>NaN</td>\n    </tr>\n  </tbody>\n</table>\n<p>5 rows × 194 columns</p>\n</div>"
     },
     "execution_count": 1,
     "metadata": {},
     "output_type": "execute_result"
    }
   ],
   "source": [
    "from tueplots import bundles\n",
    "from matplotlib import pyplot as plt\n",
    "import sys\n",
    "import os\n",
    "\n",
    "sys.path.insert(1, os.path.abspath(os.getcwd()[:-3]))\n",
    "\n",
    "plt.rcParams.update(plt.rcParamsDefault)\n",
    "plt.rcParams.update(bundles.icml2022())\n",
    "plt.rcParams.update({\"figure.dpi\": 200})\n",
    "\n",
    "from src.aquastat_utils import get_aquastat\n",
    "\n",
    "df = get_aquastat()\n",
    "df.head()"
   ]
  },
  {
   "cell_type": "markdown",
   "id": "2207567a7743cd02",
   "metadata": {
    "collapsed": false
   },
   "source": [
    "## Variables"
   ]
  },
  {
   "cell_type": "code",
   "execution_count": 2,
   "id": "7ff8ea8c5ddc6b89",
   "metadata": {
    "collapsed": false,
    "ExecuteTime": {
     "end_time": "2024-01-29T01:09:55.411650Z",
     "start_time": "2024-01-29T01:09:55.409519Z"
    }
   },
   "outputs": [
    {
     "name": "stdout",
     "output_type": "stream",
     "text": [
      "Country\n",
      "Year\n",
      "% of agricultural GVA produced by irrigated agriculture\n",
      "% of agricultural water managed area equipped for irrigation\n",
      "% of area equipped for full control irrigation actually irrigated\n",
      "% of area equipped for irrigation by desalinated water\n",
      "% of area equipped for irrigation by direct use of  treated municipal wastewater\n",
      "% of area equipped for irrigation by direct use of agricultural drainage water \n",
      "% of area equipped for irrigation by direct use of non-treated municipal wastewater\n",
      "% of area equipped for irrigation by groundwater \n",
      "% of area equipped for irrigation by mixed surface water and groundwater\n",
      "% of area equipped for irrigation by surface water\n",
      "% of area equipped for irrigation drained\n",
      "% of area equipped for irrigation power irrigated\n",
      "% of area equipped for irrigation salinized\n",
      "% of irrigation potential equipped for irrigation\n",
      "% of the agricultural holdings with irrigation managed by women\n",
      "% of the area equipped for irrigation actually irrigated\n",
      "% of the area equipped for irrigation managed by women\n",
      "% of the cultivated area equipped for irrigation\n",
      "% of total country area cultivated\n",
      "% of total cultivated area drained\n",
      "% of total grain production irrigated\n",
      "Agricultural water withdrawal\n",
      "Agricultural water withdrawal as % of total renewable water resources\n",
      "Agricultural water withdrawal as % of total water withdrawal\n",
      "Agriculture, value added (% GDP)\n",
      "Agriculture, value added to GDP\n",
      "Arable land area\n",
      "Area equipped for full control irrigation: actually irrigated\n",
      "Area equipped for full control irrigation: localized irrigation\n",
      "Area equipped for full control irrigation: sprinkler irrigation\n",
      "Area equipped for full control irrigation: surface irrigation\n",
      "Area equipped for full control irrigation: total\n",
      "Area equipped for irrigation by desalinated water\n",
      "Area equipped for irrigation by direct use of agricultural drainage water\n",
      "Area equipped for irrigation by direct use of not treated municipal wastewater\n",
      "Area equipped for irrigation by direct use of treated municipal wastewater\n",
      "Area equipped for irrigation by groundwater\n",
      "Area equipped for irrigation by mixed surface water and groundwater\n",
      "Area equipped for irrigation by surface water\n",
      "Area equipped for irrigation drained\n",
      "Area equipped for irrigation: actually irrigated\n",
      "Area equipped for irrigation: equipped lowland areas\n",
      "Area equipped for irrigation: spate irrigation\n",
      "Area equipped for irrigation: total\n",
      "Area equipped for power irrigation (surface water or groundwater)\n",
      "Area salinized by irrigation\n",
      "Area waterlogged by irrigation\n",
      "Capacity of the municipal wastewater treatment facilities\n",
      "Collected municipal wastewater\n",
      "Cultivated area (arable land + permanent crops)\n",
      "Cultivated wetlands and inland valley bottoms non-equipped\n",
      "Dam capacity per capita\n",
      "Dependency ratio\n",
      "Desalinated water produced\n",
      "Direct use of agricultural drainage water\n",
      "Direct use of not treated municipal wastewater for irrigation purposes\n",
      "Direct use of treated municipal wastewater\n",
      "Direct use of treated municipal wastewater for irrigation purposes\n",
      "Environmental Flow Requirements\n",
      "Exploitable: irregular renewable surface water\n",
      "Exploitable: regular renewable groundwater\n",
      "Exploitable: regular renewable surface water\n",
      "Exploitable: total renewable surface water\n",
      "Flood occurrence (WRI)\n",
      "Flood recession cropping area non-equipped\n",
      "Fresh groundwater withdrawal\n",
      "Fresh surface water withdrawal\n",
      "GDP Deflator (2015)\n",
      "GDP per capita\n",
      "Gender Inequality Index (GII) [equality = 0; inequality = 1)\n",
      "Gross Domestic Product (GDP)\n",
      "Groundwater produced internally\n",
      "Groundwater: accounted inflow\n",
      "Groundwater: accounted outflow to other countries\n",
      "Groundwater: entering the country (total)\n",
      "Groundwater: leaving the country to other countries (total)\n",
      "Harvested irrigated permanent crop area: Bananas\n",
      "Harvested irrigated permanent crop area: Citrus\n",
      "Harvested irrigated permanent crop area: Cocoa beans\n",
      "Harvested irrigated permanent crop area: Coconuts\n",
      "Harvested irrigated permanent crop area: Coffee\n",
      "Harvested irrigated permanent crop area: Grapes\n",
      "Harvested irrigated permanent crop area: Grass and Fodder\n",
      "Harvested irrigated permanent crop area: Oil palm\n",
      "Harvested irrigated permanent crop area: Olives\n",
      "Harvested irrigated permanent crop area: Other crops\n",
      "Harvested irrigated permanent crop area: Other fruits\n",
      "Harvested irrigated permanent crop area: Plantains\n",
      "Harvested irrigated permanent crop area: Rubber\n",
      "Harvested irrigated permanent crop area: Tea\n",
      "Harvested irrigated permanent crop area: Total\n",
      "Harvested irrigated temporary crop area: Barley\n",
      "Harvested irrigated temporary crop area: Cassava\n",
      "Harvested irrigated temporary crop area: Cotton\n",
      "Harvested irrigated temporary crop area: Flowers\n",
      "Harvested irrigated temporary crop area: Fodder\n",
      "Harvested irrigated temporary crop area: Groundnuts\n",
      "Harvested irrigated temporary crop area: Leguminous crops\n",
      "Harvested irrigated temporary crop area: Maize\n",
      "Harvested irrigated temporary crop area: Millet\n",
      "Harvested irrigated temporary crop area: Other cereals\n",
      "Harvested irrigated temporary crop area: Other crops\n",
      "Harvested irrigated temporary crop area: Other roots and tubers\n",
      "Harvested irrigated temporary crop area: Potatoes\n",
      "Harvested irrigated temporary crop area: Rice\n",
      "Harvested irrigated temporary crop area: Sesame\n",
      "Harvested irrigated temporary crop area: Sorghum\n",
      "Harvested irrigated temporary crop area: Soybeans\n",
      "Harvested irrigated temporary crop area: Sugar beet\n",
      "Harvested irrigated temporary crop area: Sugarcane\n",
      "Harvested irrigated temporary crop area: Sunflower\n",
      "Harvested irrigated temporary crop area: Sweet potatoes\n",
      "Harvested irrigated temporary crop area: Tobacco\n",
      "Harvested irrigated temporary crop area: Total\n",
      "Harvested irrigated temporary crop area: Vegetables\n",
      "Harvested irrigated temporary crop area: Wheat\n",
      "Human Development Index (HDI) [highest = 1]\n",
      "Industrial water withdrawal\n",
      "Industrial water withdrawal as % of total water withdrawal\n",
      "Industry, value added to GDP\n",
      "Interannual variability (WRI)\n",
      "Irrigated cropping intensity\n",
      "Irrigation potential\n",
      "Irrigation water requirement\n",
      "Irrigation water withdrawal\n",
      "Long-term average annual precipitation in depth\n",
      "Long-term average annual precipitation in volume\n",
      "MDG 7.5. Freshwater withdrawal as % of total renewable water resources\n",
      "Municipal water withdrawal\n",
      "Municipal water withdrawal as % of total withdrawal\n",
      "National Rainfall Index (NRI)\n",
      "Non-irrigated cultivated area drained\n",
      "Not treated municipal wastewater\n",
      "Not treated municipal wastewater discharged (secondary water)\n",
      "Number of municipal wastewater treatment facilities\n",
      "Number of people undernourished (3-year average)\n",
      "Overlap between surface water and groundwater\n",
      "Overlap: between surface water and groundwater\n",
      "Permanent crops area\n",
      "Permanent meadows and pastures irrigated\n",
      "Population affected by water related disease\n",
      "Population density\n",
      "Prevalence of undernourishment (3-year average)\n",
      "Produced municipal wastewater\n",
      "Ratio between rainfed and irrigated yields\n",
      "Rural population\n",
      "Rural population with access to safe drinking-water (JMP)\n",
      "SDG 6.4.1. Industrial Water Use Efficiency\n",
      "SDG 6.4.1. Irrigated Agriculture Water Use Efficiency\n",
      "SDG 6.4.1. Services Water Use Efficiency\n",
      "SDG 6.4.1. Water Use Efficiency\n",
      "SDG 6.4.2. Water Stress\n",
      "Seasonal variability (WRI)\n",
      "Services, value added to GDP\n",
      "Surface water produced internally\n",
      "Surface water: accounted flow of border rivers\n",
      "Surface water: accounted inflow\n",
      "Surface water: entering the country (total)\n",
      "Surface water: inflow not submitted to treaties\n",
      "Surface water: inflow secured through treaties\n",
      "Surface water: inflow submitted to treaties\n",
      "Surface water: leaving the country to other countries (total)\n",
      "Surface water: outflow to other countries not submitted to treaties\n",
      "Surface water: outflow to other countries secured through treaties\n",
      "Surface water: outflow to other countries submitted to treaties\n",
      "Surface water: total external renewable\n",
      "Surface water: total flow of border rivers\n",
      "Total agricultural water managed area\n",
      "Total area of the country (excl. coastal water)\n",
      "Total cultivated area drained\n",
      "Total dam capacity\n",
      "Total exploitable water resources\n",
      "Total freshwater withdrawal\n",
      "Total harvested irrigated crop area (full control irrigation)\n",
      "Total internal renewable water resources (IRWR)\n",
      "Total internal renewable water resources per capita\n",
      "Total population\n",
      "Total population with access to safe drinking-water (JMP)\n",
      "Total renewable groundwater\n",
      "Total renewable surface water\n",
      "Total renewable water resources\n",
      "Total renewable water resources per capita\n",
      "Total water withdrawal\n",
      "Total water withdrawal per capita\n",
      "Treated municipal wastewater\n",
      "Treated municipal wastewater discharged (secondary water)\n",
      "Urban population\n",
      "Urban population with access to safe drinking-water (JMP)\n",
      "Water resources: total external renewable\n",
      "Water withdrawal for aquaculture\n",
      "Water withdrawal for cooling of thermoelectric plants\n",
      "Water withdrawal for livestock (watering and cleaning)\n"
     ]
    }
   ],
   "source": [
    "all_vars = df.columns\n",
    "for var in all_vars:\n",
    "    print(var)"
   ]
  },
  {
   "cell_type": "markdown",
   "id": "b0f787cf1107146f",
   "metadata": {
    "collapsed": false
   },
   "source": [
    "## Analyse useabla Data\n",
    "The following function constructs a heatmap showing if countries have data for our relevant variables for every year."
   ]
  },
  {
   "cell_type": "code",
   "execution_count": 3,
   "id": "965b2f7bdbdfd606",
   "metadata": {
    "collapsed": false,
    "ExecuteTime": {
     "end_time": "2024-01-29T01:09:57.051200Z",
     "start_time": "2024-01-29T01:09:55.412331Z"
    }
   },
   "outputs": [
    {
     "name": "stderr",
     "output_type": "stream",
     "text": [
      "/Users/josef/Sync/Dokumente/SCHULE/Master/UT/Vorlesungen/Sem2/Data_Literacy/Paper/src/aquastat_plot.py:80: UserWarning: The figure layout has changed to tight\n",
      "  plt.tight_layout()\n"
     ]
    },
    {
     "data": {
      "text/plain": "<Figure size 2000x1000 with 1 Axes>",
      "image/png": "[encoded data removed]"
     },
     "metadata": {},
     "output_type": "display_data"
    }
   ],
   "source": [
    "from src.aquastat_plot import show_data\n",
    "\n",
    "show_data(df, ['Urban population', 'Agricultural water withdrawal'], ['Germany', 'Sweden'])"
   ]
  },
  {
   "cell_type": "code",
   "execution_count": 4,
   "id": "85472479873ee2e8",
   "metadata": {
    "collapsed": false,
    "ExecuteTime": {
     "end_time": "2024-01-29T01:09:57.467944Z",
     "start_time": "2024-01-29T01:09:57.053564Z"
    }
   },
   "outputs": [
    {
     "ename": "KeyError",
     "evalue": "'Country'",
     "output_type": "error",
     "traceback": [
      "\u001B[0;31m---------------------------------------------------------------------------\u001B[0m",
      "\u001B[0;31mKeyError\u001B[0m                                  Traceback (most recent call last)",
      "File \u001B[0;32m~/Sync/Dokumente/SCHULE/Master/UT/Vorlesungen/Sem2/Data_Literacy/Paper/.venv/lib/python3.11/site-packages/pandas/core/indexes/base.py:3791\u001B[0m, in \u001B[0;36mIndex.get_loc\u001B[0;34m(self, key)\u001B[0m\n\u001B[1;32m   3790\u001B[0m \u001B[38;5;28;01mtry\u001B[39;00m:\n\u001B[0;32m-> 3791\u001B[0m     \u001B[38;5;28;01mreturn\u001B[39;00m \u001B[38;5;28;43mself\u001B[39;49m\u001B[38;5;241;43m.\u001B[39;49m\u001B[43m_engine\u001B[49m\u001B[38;5;241;43m.\u001B[39;49m\u001B[43mget_loc\u001B[49m\u001B[43m(\u001B[49m\u001B[43mcasted_key\u001B[49m\u001B[43m)\u001B[49m\n\u001B[1;32m   3792\u001B[0m \u001B[38;5;28;01mexcept\u001B[39;00m \u001B[38;5;167;01mKeyError\u001B[39;00m \u001B[38;5;28;01mas\u001B[39;00m err:\n",
      "File \u001B[0;32mindex.pyx:152\u001B[0m, in \u001B[0;36mpandas._libs.index.IndexEngine.get_loc\u001B[0;34m()\u001B[0m\n",
      "File \u001B[0;32mindex.pyx:181\u001B[0m, in \u001B[0;36mpandas._libs.index.IndexEngine.get_loc\u001B[0;34m()\u001B[0m\n",
      "File \u001B[0;32mpandas/_libs/hashtable_class_helper.pxi:7080\u001B[0m, in \u001B[0;36mpandas._libs.hashtable.PyObjectHashTable.get_item\u001B[0;34m()\u001B[0m\n",
      "File \u001B[0;32mpandas/_libs/hashtable_class_helper.pxi:7088\u001B[0m, in \u001B[0;36mpandas._libs.hashtable.PyObjectHashTable.get_item\u001B[0;34m()\u001B[0m\n",
      "\u001B[0;31mKeyError\u001B[0m: 'Country'",
      "\nThe above exception was the direct cause of the following exception:\n",
      "\u001B[0;31mKeyError\u001B[0m                                  Traceback (most recent call last)",
      "Cell \u001B[0;32mIn[4], line 3\u001B[0m\n\u001B[1;32m      1\u001B[0m \u001B[38;5;28;01mfrom\u001B[39;00m \u001B[38;5;21;01msrc\u001B[39;00m\u001B[38;5;21;01m.\u001B[39;00m\u001B[38;5;21;01maquastat_plot\u001B[39;00m \u001B[38;5;28;01mimport\u001B[39;00m plot_quality\n\u001B[0;32m----> 3\u001B[0m \u001B[43mplot_quality\u001B[49m\u001B[43m(\u001B[49m\u001B[43mdf\u001B[49m\u001B[43m,\u001B[49m\u001B[43m \u001B[49m\u001B[43m[\u001B[49m\u001B[38;5;124;43m'\u001B[39;49m\u001B[38;5;124;43mUrban population\u001B[39;49m\u001B[38;5;124;43m'\u001B[39;49m\u001B[43m,\u001B[49m\u001B[43m \u001B[49m\u001B[38;5;124;43m'\u001B[39;49m\u001B[38;5;124;43mAgricultural water withdrawal\u001B[39;49m\u001B[38;5;124;43m'\u001B[39;49m\u001B[43m]\u001B[49m\u001B[43m,\u001B[49m\u001B[43m \u001B[49m\u001B[43m[\u001B[49m\u001B[38;5;124;43m'\u001B[39;49m\u001B[38;5;124;43mGermany\u001B[39;49m\u001B[38;5;124;43m'\u001B[39;49m\u001B[43m,\u001B[49m\u001B[43m \u001B[49m\u001B[38;5;124;43m'\u001B[39;49m\u001B[38;5;124;43mSweden\u001B[39;49m\u001B[38;5;124;43m'\u001B[39;49m\u001B[43m]\u001B[49m\u001B[43m)\u001B[49m\n",
      "File \u001B[0;32m~/Sync/Dokumente/SCHULE/Master/UT/Vorlesungen/Sem2/Data_Literacy/Paper/src/aquastat_plot.py:118\u001B[0m, in \u001B[0;36mplot_quality\u001B[0;34m(aquastat_dataframe, variables, include_countries)\u001B[0m\n\u001B[1;32m    115\u001B[0m years_df\u001B[38;5;241m.\u001B[39mdrop(\u001B[38;5;124m'\u001B[39m\u001B[38;5;124mTrue_Count\u001B[39m\u001B[38;5;124m'\u001B[39m, axis\u001B[38;5;241m=\u001B[39m\u001B[38;5;241m1\u001B[39m, inplace\u001B[38;5;241m=\u001B[39m\u001B[38;5;28;01mTrue\u001B[39;00m)\n\u001B[1;32m    117\u001B[0m \u001B[38;5;250m\u001B[39m\u001B[38;5;124;03m'''Rename some countries'''\u001B[39;00m\n\u001B[0;32m--> 118\u001B[0m \u001B[38;5;28;01mfor\u001B[39;00m country \u001B[38;5;129;01min\u001B[39;00m \u001B[43mcountries_df\u001B[49m\u001B[43m[\u001B[49m\u001B[38;5;124;43m'\u001B[39;49m\u001B[38;5;124;43mCountry\u001B[39;49m\u001B[38;5;124;43m'\u001B[39;49m\u001B[43m]\u001B[49m\u001B[38;5;241m.\u001B[39munique():\n\u001B[1;32m    119\u001B[0m     replace_to \u001B[38;5;241m=\u001B[39m rename_aquastat_country(country)\n\u001B[1;32m    120\u001B[0m     countries_df\u001B[38;5;241m.\u001B[39mreplace(to_replace\u001B[38;5;241m=\u001B[39m{country: replace_to}, inplace\u001B[38;5;241m=\u001B[39m\u001B[38;5;28;01mTrue\u001B[39;00m)\n",
      "File \u001B[0;32m~/Sync/Dokumente/SCHULE/Master/UT/Vorlesungen/Sem2/Data_Literacy/Paper/.venv/lib/python3.11/site-packages/pandas/core/frame.py:3893\u001B[0m, in \u001B[0;36mDataFrame.__getitem__\u001B[0;34m(self, key)\u001B[0m\n\u001B[1;32m   3891\u001B[0m \u001B[38;5;28;01mif\u001B[39;00m \u001B[38;5;28mself\u001B[39m\u001B[38;5;241m.\u001B[39mcolumns\u001B[38;5;241m.\u001B[39mnlevels \u001B[38;5;241m>\u001B[39m \u001B[38;5;241m1\u001B[39m:\n\u001B[1;32m   3892\u001B[0m     \u001B[38;5;28;01mreturn\u001B[39;00m \u001B[38;5;28mself\u001B[39m\u001B[38;5;241m.\u001B[39m_getitem_multilevel(key)\n\u001B[0;32m-> 3893\u001B[0m indexer \u001B[38;5;241m=\u001B[39m \u001B[38;5;28;43mself\u001B[39;49m\u001B[38;5;241;43m.\u001B[39;49m\u001B[43mcolumns\u001B[49m\u001B[38;5;241;43m.\u001B[39;49m\u001B[43mget_loc\u001B[49m\u001B[43m(\u001B[49m\u001B[43mkey\u001B[49m\u001B[43m)\u001B[49m\n\u001B[1;32m   3894\u001B[0m \u001B[38;5;28;01mif\u001B[39;00m is_integer(indexer):\n\u001B[1;32m   3895\u001B[0m     indexer \u001B[38;5;241m=\u001B[39m [indexer]\n",
      "File \u001B[0;32m~/Sync/Dokumente/SCHULE/Master/UT/Vorlesungen/Sem2/Data_Literacy/Paper/.venv/lib/python3.11/site-packages/pandas/core/indexes/base.py:3798\u001B[0m, in \u001B[0;36mIndex.get_loc\u001B[0;34m(self, key)\u001B[0m\n\u001B[1;32m   3793\u001B[0m     \u001B[38;5;28;01mif\u001B[39;00m \u001B[38;5;28misinstance\u001B[39m(casted_key, \u001B[38;5;28mslice\u001B[39m) \u001B[38;5;129;01mor\u001B[39;00m (\n\u001B[1;32m   3794\u001B[0m         \u001B[38;5;28misinstance\u001B[39m(casted_key, abc\u001B[38;5;241m.\u001B[39mIterable)\n\u001B[1;32m   3795\u001B[0m         \u001B[38;5;129;01mand\u001B[39;00m \u001B[38;5;28many\u001B[39m(\u001B[38;5;28misinstance\u001B[39m(x, \u001B[38;5;28mslice\u001B[39m) \u001B[38;5;28;01mfor\u001B[39;00m x \u001B[38;5;129;01min\u001B[39;00m casted_key)\n\u001B[1;32m   3796\u001B[0m     ):\n\u001B[1;32m   3797\u001B[0m         \u001B[38;5;28;01mraise\u001B[39;00m InvalidIndexError(key)\n\u001B[0;32m-> 3798\u001B[0m     \u001B[38;5;28;01mraise\u001B[39;00m \u001B[38;5;167;01mKeyError\u001B[39;00m(key) \u001B[38;5;28;01mfrom\u001B[39;00m \u001B[38;5;21;01merr\u001B[39;00m\n\u001B[1;32m   3799\u001B[0m \u001B[38;5;28;01mexcept\u001B[39;00m \u001B[38;5;167;01mTypeError\u001B[39;00m:\n\u001B[1;32m   3800\u001B[0m     \u001B[38;5;66;03m# If we have a listlike key, _check_indexing_error will raise\u001B[39;00m\n\u001B[1;32m   3801\u001B[0m     \u001B[38;5;66;03m#  InvalidIndexError. Otherwise we fall through and re-raise\u001B[39;00m\n\u001B[1;32m   3802\u001B[0m     \u001B[38;5;66;03m#  the TypeError.\u001B[39;00m\n\u001B[1;32m   3803\u001B[0m     \u001B[38;5;28mself\u001B[39m\u001B[38;5;241m.\u001B[39m_check_indexing_error(key)\n",
      "\u001B[0;31mKeyError\u001B[0m: 'Country'"
     ]
    }
   ],
   "source": [
    "from src.aquastat_plot import plot_quality\n",
    "\n",
    "plot_quality(df, ['Urban population', 'Agricultural water withdrawal'], ['Germany', 'Sweden'])"
   ]
  },
  {
   "cell_type": "code",
   "execution_count": null,
   "id": "23823e00097d6169",
   "metadata": {
    "collapsed": false,
    "ExecuteTime": {
     "end_time": "2024-01-29T01:09:57.469859Z",
     "start_time": "2024-01-29T01:09:57.469509Z"
    }
   },
   "outputs": [],
   "source": []
  }
 ],
 "metadata": {
  "kernelspec": {
   "display_name": "Python 3",
   "language": "python",
   "name": "python3"
  },
  "language_info": {
   "codemirror_mode": {
    "name": "ipython",
    "version": 3
   },
   "file_extension": ".py",
   "mimetype": "text/x-python",
   "name": "python",
   "nbconvert_exporter": "python",
   "pygments_lexer": "ipython3",
   "version": "3.10.13"
  }
 },
 "nbformat": 4,
 "nbformat_minor": 5
}
