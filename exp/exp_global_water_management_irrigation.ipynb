{
 "cells": [
  {
   "cell_type": "markdown",
   "metadata": {},
   "source": [
    "# Experiment: Water Management Strategies: Irrigation\n",
    "\n",
    "One of the possibilities that countries which face high water stress could have to reduce their stress, is to irrigate their crops with treated municipal water or even untreated municipal water.\n",
    "\n",
    "To test this, we define our Null-Hypothesis $H_0$ that there is no difference between the water source that is used for irrigation in countries with high water stress.\n",
    "\n",
    "The test we use is a chi-square independence test."
   ]
  },
  {
   "cell_type": "code",
   "execution_count": 1,
   "metadata": {
    "ExecuteTime": {
     "end_time": "2024-01-29T21:55:25.091996Z",
     "start_time": "2024-01-29T21:55:24.954411Z"
    },
    "collapsed": false
   },
   "outputs": [],
   "source": [
    "from tueplots import bundles, figsizes\n",
    "import seaborn as sns\n",
    "import matplotlib.pyplot as plt\n",
    "import sys\n",
    "import os\n",
    "sys.path.insert(1, os.path.abspath(os.getcwd()[:-3]))\n",
    "\n",
    "plt.rcParams.update(plt.rcParamsDefault)\n",
    "plt.rcParams.update(bundles.icml2022(column=\"half\"))\n",
    "plt.rcParams.update({\"figure.dpi\": 200})"
   ]
  },
  {
   "cell_type": "code",
   "execution_count": 2,
   "metadata": {
    "ExecuteTime": {
     "end_time": "2024-01-29T21:55:27.909191Z",
     "start_time": "2024-01-29T21:55:24.959400Z"
    }
   },
   "outputs": [
    {
     "name": "stdout",
     "output_type": "stream",
     "text": [
      "Getting AQUASTAT dataframe from fao_aquastat.csv ...\n",
      "/Users/josef/projects/test/team-aqua/src/../dat/fao_aquastat.csv already exists.\n",
      "Getting AQUASTAT dataframe from fao_aquastat.csv ...\n",
      "/Users/josef/projects/test/team-aqua/src/../dat/fao_aquastat.csv already exists.\n",
      "Renaming countries ...\n"
     ]
    }
   ],
   "source": [
    "from src.aquastat_utils import get_aquastat\n",
    "\n",
    "\n",
    "# Get the aquastat data\n",
    "aquastat_df = get_aquastat()"
   ]
  },
  {
   "cell_type": "code",
   "execution_count": 3,
   "metadata": {
    "ExecuteTime": {
     "end_time": "2024-01-29T21:55:27.910103Z",
     "start_time": "2024-01-29T21:55:27.900630Z"
    }
   },
   "outputs": [
    {
     "data": {
      "text/html": [
       "<div>\n",
       "<style scoped>\n",
       "    .dataframe tbody tr th:only-of-type {\n",
       "        vertical-align: middle;\n",
       "    }\n",
       "\n",
       "    .dataframe tbody tr th {\n",
       "        vertical-align: top;\n",
       "    }\n",
       "\n",
       "    .dataframe thead th {\n",
       "        text-align: right;\n",
       "    }\n",
       "</style>\n",
       "<table border=\"1\" class=\"dataframe\">\n",
       "  <thead>\n",
       "    <tr style=\"text-align: right;\">\n",
       "      <th>Variable</th>\n",
       "      <th>Country</th>\n",
       "      <th>Water Stress</th>\n",
       "      <th>Treated municipal water</th>\n",
       "      <th>Non-treated municipal water</th>\n",
       "      <th>Fresh water</th>\n",
       "    </tr>\n",
       "  </thead>\n",
       "  <tbody>\n",
       "    <tr>\n",
       "      <th>0</th>\n",
       "      <td>Afghanistan</td>\n",
       "      <td>NaN</td>\n",
       "      <td>NaN</td>\n",
       "      <td>NaN</td>\n",
       "      <td>NaN</td>\n",
       "    </tr>\n",
       "    <tr>\n",
       "      <th>1</th>\n",
       "      <td>Afghanistan</td>\n",
       "      <td>NaN</td>\n",
       "      <td>NaN</td>\n",
       "      <td>NaN</td>\n",
       "      <td>NaN</td>\n",
       "    </tr>\n",
       "    <tr>\n",
       "      <th>2</th>\n",
       "      <td>Afghanistan</td>\n",
       "      <td>NaN</td>\n",
       "      <td>NaN</td>\n",
       "      <td>NaN</td>\n",
       "      <td>NaN</td>\n",
       "    </tr>\n",
       "    <tr>\n",
       "      <th>3</th>\n",
       "      <td>Afghanistan</td>\n",
       "      <td>NaN</td>\n",
       "      <td>NaN</td>\n",
       "      <td>NaN</td>\n",
       "      <td>NaN</td>\n",
       "    </tr>\n",
       "    <tr>\n",
       "      <th>4</th>\n",
       "      <td>Afghanistan</td>\n",
       "      <td>NaN</td>\n",
       "      <td>NaN</td>\n",
       "      <td>NaN</td>\n",
       "      <td>NaN</td>\n",
       "    </tr>\n",
       "    <tr>\n",
       "      <th>...</th>\n",
       "      <td>...</td>\n",
       "      <td>...</td>\n",
       "      <td>...</td>\n",
       "      <td>...</td>\n",
       "      <td>...</td>\n",
       "    </tr>\n",
       "    <tr>\n",
       "      <th>10567</th>\n",
       "      <td>Zimbabwe</td>\n",
       "      <td>31.937664</td>\n",
       "      <td>NaN</td>\n",
       "      <td>NaN</td>\n",
       "      <td>2.72100</td>\n",
       "    </tr>\n",
       "    <tr>\n",
       "      <th>10568</th>\n",
       "      <td>Zimbabwe</td>\n",
       "      <td>31.346226</td>\n",
       "      <td>NaN</td>\n",
       "      <td>NaN</td>\n",
       "      <td>2.77000</td>\n",
       "    </tr>\n",
       "    <tr>\n",
       "      <th>10569</th>\n",
       "      <td>Zimbabwe</td>\n",
       "      <td>35.405385</td>\n",
       "      <td>0.00753</td>\n",
       "      <td>NaN</td>\n",
       "      <td>3.04107</td>\n",
       "    </tr>\n",
       "    <tr>\n",
       "      <th>10570</th>\n",
       "      <td>Zimbabwe</td>\n",
       "      <td>35.405385</td>\n",
       "      <td>0.00753</td>\n",
       "      <td>NaN</td>\n",
       "      <td>3.04107</td>\n",
       "    </tr>\n",
       "    <tr>\n",
       "      <th>10571</th>\n",
       "      <td>Zimbabwe</td>\n",
       "      <td>35.405385</td>\n",
       "      <td>0.00753</td>\n",
       "      <td>NaN</td>\n",
       "      <td>3.04107</td>\n",
       "    </tr>\n",
       "  </tbody>\n",
       "</table>\n",
       "<p>10572 rows × 5 columns</p>\n",
       "</div>"
      ],
      "text/plain": [
       "Variable      Country  Water Stress  Treated municipal water  \\\n",
       "0         Afghanistan           NaN                      NaN   \n",
       "1         Afghanistan           NaN                      NaN   \n",
       "2         Afghanistan           NaN                      NaN   \n",
       "3         Afghanistan           NaN                      NaN   \n",
       "4         Afghanistan           NaN                      NaN   \n",
       "...               ...           ...                      ...   \n",
       "10567        Zimbabwe     31.937664                      NaN   \n",
       "10568        Zimbabwe     31.346226                      NaN   \n",
       "10569        Zimbabwe     35.405385                  0.00753   \n",
       "10570        Zimbabwe     35.405385                  0.00753   \n",
       "10571        Zimbabwe     35.405385                  0.00753   \n",
       "\n",
       "Variable  Non-treated municipal water  Fresh water  \n",
       "0                                 NaN          NaN  \n",
       "1                                 NaN          NaN  \n",
       "2                                 NaN          NaN  \n",
       "3                                 NaN          NaN  \n",
       "4                                 NaN          NaN  \n",
       "...                               ...          ...  \n",
       "10567                             NaN      2.72100  \n",
       "10568                             NaN      2.77000  \n",
       "10569                             NaN      3.04107  \n",
       "10570                             NaN      3.04107  \n",
       "10571                             NaN      3.04107  \n",
       "\n",
       "[10572 rows x 5 columns]"
      ]
     },
     "execution_count": 3,
     "metadata": {},
     "output_type": "execute_result"
    }
   ],
   "source": [
    "'''Prepare the data'''\n",
    "water_stress_variable = 'SDG 6.4.2. Water Stress'\n",
    "fresh_water_irrigation_variable = 'Agricultural water withdrawal'\n",
    "non_treated_water_irrigation_variable = 'Direct use of not treated municipal wastewater for irrigation purposes'\n",
    "treated_water_irrigation_variable = 'Direct use of treated municipal wastewater for irrigation purposes'\n",
    "\n",
    "# Include irrigation water requirement in the DataFrame\n",
    "irrigation_df = aquastat_df[\n",
    "    ['Country', water_stress_variable, treated_water_irrigation_variable, non_treated_water_irrigation_variable,\n",
    "     fresh_water_irrigation_variable]]\n",
    "\n",
    "# Rename columns for clarity\n",
    "irrigation_df = irrigation_df.rename(columns={non_treated_water_irrigation_variable: 'Non-treated municipal water',\n",
    "                                              treated_water_irrigation_variable: 'Treated municipal water',\n",
    "                                              fresh_water_irrigation_variable: 'Fresh water',\n",
    "                                              water_stress_variable: 'Water Stress'})\n",
    "\n",
    "\n",
    "irrigation_df"
   ]
  },
  {
   "cell_type": "code",
   "execution_count": 4,
   "metadata": {
    "ExecuteTime": {
     "end_time": "2024-01-29T21:55:27.950271Z",
     "start_time": "2024-01-29T21:55:27.918038Z"
    },
    "collapsed": false
   },
   "outputs": [
    {
     "name": "stdout",
     "output_type": "stream",
     "text": [
      "Min-Max: 0.0238663484-3850.5\n",
      "Min-Max: 0.012-4.33\n",
      "Min-Max: 0.0-1.38\n",
      "Min-Max: 0.0-688.0\n"
     ]
    }
   ],
   "source": [
    "'''Create the contingency table'''\n",
    "import numpy as np\n",
    "import pandas as pd\n",
    "\n",
    "\n",
    "MAX_BINS = 6\n",
    "\n",
    "min_value = irrigation_df['Water Stress'].min()\n",
    "max_value = irrigation_df['Water Stress'].max()\n",
    "print(f'Min-Max: {min_value}-{max_value}')\n",
    "irrigation_df['Water Stress'] = irrigation_df['Water Stress'].astype(\n",
    "    'category')\n",
    "bins = np.linspace(min_value, max_value, MAX_BINS)\n",
    "labels = [label.format(bins[i], bins[i + 1])\n",
    "          for i, label in enumerate(['{}-{}' for _ in range(MAX_BINS - 1)])]\n",
    "irrigation_df['Water Stress'] = pd.cut(\n",
    "    irrigation_df['Water Stress'], bins=bins, labels=labels)\n",
    "irrigation_df['Water Stress'] = irrigation_df['Water Stress'].cat.codes\n",
    "\n",
    "# Non-treated municipal water\n",
    "min_value = irrigation_df['Non-treated municipal water'].min()\n",
    "max_value = irrigation_df['Non-treated municipal water'].max()\n",
    "print(f'Min-Max: {min_value}-{max_value}')\n",
    "irrigation_df['Non-treated municipal water'] = irrigation_df['Non-treated municipal water'].astype(\n",
    "    'category')\n",
    "bins = np.linspace(min_value, max_value, MAX_BINS)\n",
    "labels = [label.format(bins[i], bins[i + 1])\n",
    "          for i, label in enumerate(['{}-{}' for _ in range(MAX_BINS - 1)])]\n",
    "irrigation_df['Non-treated municipal water'] = pd.cut(irrigation_df['Non-treated municipal water'], bins=bins,\n",
    "                                                      labels=labels)\n",
    "irrigation_df['Non-treated municipal water'] = irrigation_df['Non-treated municipal water'].cat.codes\n",
    "\n",
    "\n",
    "# Treated municipal water\n",
    "min_value = irrigation_df['Treated municipal water'].min()\n",
    "max_value = irrigation_df['Treated municipal water'].max()\n",
    "print(f'Min-Max: {min_value}-{max_value}')\n",
    "irrigation_df['Treated municipal water'] = irrigation_df['Treated municipal water'].astype(\n",
    "    'category')\n",
    "bins = np.linspace(min_value, max_value, MAX_BINS)\n",
    "labels = [label.format(bins[i], bins[i + 1])\n",
    "          for i, label in enumerate(['{}-{}' for _ in range(MAX_BINS - 1)])]\n",
    "irrigation_df['Treated municipal water'] = pd.cut(\n",
    "    irrigation_df['Treated municipal water'], bins=bins, labels=labels)\n",
    "irrigation_df['Treated municipal water'] = irrigation_df['Treated municipal water'].cat.codes\n",
    "\n",
    "\n",
    "# Fresh water\n",
    "min_value = irrigation_df['Fresh water'].min()\n",
    "max_value = irrigation_df['Fresh water'].max()\n",
    "print(f'Min-Max: {min_value}-{max_value}')\n",
    "irrigation_df['Fresh water'] = irrigation_df['Fresh water'].astype('category')\n",
    "bins = np.linspace(min_value, max_value, MAX_BINS)\n",
    "labels = [label.format(bins[i], bins[i + 1])\n",
    "          for i, label in enumerate(['{}-{}' for _ in range(MAX_BINS - 1)])]\n",
    "irrigation_df['Fresh water'] = pd.cut(\n",
    "    irrigation_df['Fresh water'], bins=bins, labels=labels)"
   ]
  },
  {
   "cell_type": "code",
   "execution_count": 5,
   "metadata": {
    "ExecuteTime": {
     "end_time": "2024-01-29T21:55:28.024504Z",
     "start_time": "2024-01-29T21:55:27.949287Z"
    },
    "collapsed": false
   },
   "outputs": [
    {
     "name": "stdout",
     "output_type": "stream",
     "text": [
      "Non-treated municipal water: chi2 = 124.4357357089385, p = 2.5970799101684114e-19, dof = 15, expected = [[4.66369221e+03 3.04173288e+01 2.72861332e+01 7.60433220e+00]\n",
      " [5.66467499e+03 3.69458948e+01 3.31426409e+01 9.23647370e+00]\n",
      " [5.52266364e+01 3.60196746e-01 3.23117669e-01 9.00491865e-02]\n",
      " [2.66271283e+01 1.73666288e-01 1.55788876e-01 4.34165721e-02]\n",
      " [6.90332955e+00 4.50245933e-02 4.03897087e-02 1.12561483e-02]\n",
      " [8.87570942e+00 5.78887628e-02 5.19296254e-02 1.44721907e-02]]\n",
      "Treated municipal water: chi2 = 1591.9500379360215, p = 0.0\n",
      "Fresh water: chi2 = 8.328284096883086, p = 0.9894633673080807\n"
     ]
    }
   ],
   "source": [
    "'''Chi-square independence test'''\n",
    "from scipy.stats import chi2_contingency\n",
    "\n",
    "water_stress_non_treated = irrigation_df[[\n",
    "    'Water Stress', 'Non-treated municipal water']].dropna(inplace=False)\n",
    "chi2, p, dof, expected = chi2_contingency(\n",
    "    pd.crosstab(water_stress_non_treated['Water Stress'], water_stress_non_treated['Non-treated municipal water']))\n",
    "print('Non-treated municipal water: chi2 = {}, p = {}, dof = {}, expected = {}'.format(chi2, p, dof, expected))\n",
    "\n",
    "water_stress_treated = irrigation_df[[\n",
    "    'Water Stress', 'Treated municipal water']].dropna(inplace=False)\n",
    "chi2, p, dof, expected = chi2_contingency(\n",
    "    pd.crosstab(water_stress_treated['Water Stress'], water_stress_treated['Treated municipal water']))\n",
    "print('Treated municipal water: chi2 = {}, p = {}'.format(chi2, p))\n",
    "\n",
    "water_stress_fresh = irrigation_df[[\n",
    "    'Water Stress', 'Fresh water']].dropna(inplace=False)\n",
    "chi2, p, dof, expected = chi2_contingency(pd.crosstab(\n",
    "    water_stress_fresh['Water Stress'], water_stress_fresh['Fresh water']))\n",
    "print('Fresh water: chi2 = {}, p = {}'.format(chi2, p))"
   ]
  },
  {
   "cell_type": "code",
   "execution_count": 6,
   "metadata": {
    "ExecuteTime": {
     "end_time": "2024-01-29T21:55:28.577863Z",
     "start_time": "2024-01-29T21:55:27.995626Z"
    },
    "collapsed": false
   },
   "outputs": [
    {
     "data": {
      "image/png": "[encoded data removed]",
      "text/plain": [
       "<Figure size 650x401.722 with 3 Axes>"
      ]
     },
     "metadata": {},
     "output_type": "display_data"
    }
   ],
   "source": [
    "'''Plot the chi-square test results'''\n",
    "\n",
    "from matplotlib.ticker import FormatStrFormatter\n",
    "fig, ax = plt.subplots(1, 3)\n",
    "sns.barplot(x='Water Stress', y='Non-treated municipal water',\n",
    "            data=water_stress_non_treated, ax=ax[0])\n",
    "sns.barplot(x='Water Stress', y='Treated municipal water',\n",
    "            data=water_stress_treated, ax=ax[1])\n",
    "sns.barplot(x='Water Stress', y='Fresh water',\n",
    "            data=water_stress_fresh, ax=ax[2])\n",
    "\n",
    "# Titles\n",
    "ax[0].set_title('Non-treated municipal water')\n",
    "ax[1].set_title('Treated municipal water')\n",
    "ax[2].set_title('Fresh water')\n",
    "\n",
    "# Format axes\n",
    "ax[0].set_xlabel('')\n",
    "ax[1].set_xlabel('')\n",
    "ax[2].set_xlabel('')\n",
    "\n",
    "# Format numbers on y-axis\n",
    "ax[0].yaxis.set_major_formatter(FormatStrFormatter('%.3f'))\n",
    "ax[1].yaxis.set_major_formatter(FormatStrFormatter('%.3f'))\n",
    "ax[2].yaxis.set_major_formatter(FormatStrFormatter('%.3f'))\n",
    "\n",
    "plt.show()"
   ]
  }
 ],
 "metadata": {
  "kernelspec": {
   "display_name": "Python 3 (ipykernel)",
   "language": "python",
   "name": "python3"
  },
  "language_info": {
   "codemirror_mode": {
    "name": "ipython",
    "version": 3
   },
   "file_extension": ".py",
   "mimetype": "text/x-python",
   "name": "python",
   "nbconvert_exporter": "python",
   "pygments_lexer": "ipython3",
   "version": "3.11.5"
  }
 },
 "nbformat": 4,
 "nbformat_minor": 2
}
