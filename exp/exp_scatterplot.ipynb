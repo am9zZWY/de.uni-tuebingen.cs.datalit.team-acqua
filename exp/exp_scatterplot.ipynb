{
 "cells": [
  {
   "cell_type": "markdown",
   "id": "9c745156",
   "metadata": {},
   "source": [
    "# Scatterplot"
   ]
  },
  {
   "cell_type": "markdown",
   "id": "52e2b93e-a969-4a26-8703-7ba4712b47b9",
   "metadata": {},
   "source": [
    "This experiment aims to use scatterplot visualisations to display correlations about water related problems and it's possible reasons in an intuitive way.\n",
    "\n",
    "Especially, we try to explore the counterintuitive reverse-relationship between water stress and challenges like limited access to clean drinking water and undernourishment in various countries.\n",
    "\n",
    "Jump down to see the plots, jump to the end to see the conclusion."
   ]
  },
  {
   "cell_type": "markdown",
   "id": "b30e7245-6a7a-4015-b670-1a1759e2b982",
   "metadata": {},
   "source": [
    "### Imports & Dataset"
   ]
  },
  {
   "cell_type": "code",
   "execution_count": 1,
   "id": "3931bbfb",
   "metadata": {
    "ExecuteTime": {
     "end_time": "2024-01-29T02:10:15.003725Z",
     "start_time": "2024-01-29T02:10:13.593115Z"
    }
   },
   "outputs": [
    {
     "name": "stdout",
     "output_type": "stream",
     "text": [
      "Getting AQUASTAT dataframe from fao_aquastat.csv ...\n",
      "/home/mobe/Desktop/team-acqua/src/../dat/fao_aquastat.csv already exists.\n",
      "Getting AQUASTAT dataframe from fao_aquastat.csv ...\n",
      "/home/mobe/Desktop/team-acqua/src/../dat/fao_aquastat.csv already exists.\n",
      "Renaming countries ...\n"
     ]
    }
   ],
   "source": [
    "import os\n",
    "import sys\n",
    "\n",
    "import numpy as np\n",
    "import matplotlib.pyplot as plt\n",
    "from tueplots import bundles\n",
    "from tueplots.constants.color import rgb\n",
    "\n",
    "from matplotlib.colors import ListedColormap\n",
    "from matplotlib.colors import LinearSegmentedColormap\n",
    "\n",
    "sys.path.insert(1, os.path.abspath(os.getcwd()[:-3]))\n",
    "from src.aquastat_utils import get_aquastat\n",
    "import src.utils\n",
    "from src.aquastat_utils import AQUASTAT_SOURCE\n",
    "\n",
    "df = get_aquastat()"
   ]
  },
  {
   "cell_type": "markdown",
   "id": "50235226",
   "metadata": {},
   "source": [
    "### Function for drawing the scatterplot"
   ]
  },
  {
   "cell_type": "code",
   "execution_count": 2,
   "id": "fdd413f1-13d6-490d-841d-0da1e6d3acd8",
   "metadata": {
    "ExecuteTime": {
     "end_time": "2024-01-29T02:10:15.012805Z",
     "start_time": "2024-01-29T02:10:15.007906Z"
    }
   },
   "outputs": [],
   "source": [
    "# create custom color map (code from global_water_withdrawal)\n",
    "RGB1 = [0, 0, 150]  # dark blue\n",
    "RGB2 = [150, 0, 0]  # dark red\n",
    "\n",
    "N = 256  #number of discrete levels\n",
    "vals = np.ones((N, 4))\n",
    "\n",
    "vals[:, 0] = np.linspace(RGB1[0] / 256, RGB2[0] / 256, N)\n",
    "vals[:, 1] = np.linspace(RGB1[1] / 256, RGB2[1] / 256, N)\n",
    "vals[:, 2] = np.linspace(RGB1[2] / 256, RGB2[2] / 256, N)\n",
    "\n",
    "# finally, create the required colormap that ranges from\n",
    "# -- dark blue to pale green\n",
    "custom_cmap = ListedColormap(vals)\n",
    "\n",
    "custom_cmap = LinearSegmentedColormap.from_list(\n",
    "    \"rb\", [[0, 0, 153 / 255, 1], [51 / 255, 133 / 255, 220 / 255, 1], [220 / 255, 0 / 255, 0, 1], [128 / 255, 0, 0, 1]],\n",
    "    N=500\n",
    ")\n",
    "\n",
    "\n",
    "\n",
    "def scatterplot(variables, year: int, title: str, sizes=False, extend='neither'):\n",
    "    \"\"\"\n",
    "    Returns the sum of two decimal numbers in binary digits.\n",
    "\n",
    "            Parameters:\n",
    "                    variables (list(string))): List containing 2/3 variable names (color will be used to represent the 3rd one, if present)\n",
    "                    year (int): A single year to use the data from\n",
    "                    sizes (boolean): Dots are sized according to the 3rd variable if set to true\n",
    "                    extend (neither/min/max/both): Shape of the end of the colorbar\n",
    "\n",
    "            Draw a scatterplot of the specified data\n",
    "    \"\"\"\n",
    "    # Turn this on to save the plot as pdf  \n",
    "    save = True\n",
    "    #TODO: update fontsize, add source\n",
    "\n",
    "    data = df[['Country', 'Year', *variables]]\n",
    "    data = data[data['Year'] == year]\n",
    "    # Exclude certain countries which blow up the diagram\n",
    "    countries_to_exclude = [\"Qatar\", \"Kuwait\", \"United Arab Emirates\", \"Saudi Arabia\", \"Libya\", \"Yemen\"]\n",
    "    data = data[~data['Country'].isin(countries_to_exclude)]\n",
    "    data = data.dropna()\n",
    "\n",
    "    settings = plt.rcParams.copy()\n",
    "    plt.rcParams.update(bundles.icml2022())\n",
    "    plt.rcParams.update({\"figure.dpi\": 200})\n",
    "\n",
    "    # Create a scatter plot\n",
    "    fig, ax = plt.subplots()\n",
    "\n",
    "    # Initialize lists to store values for each country\n",
    "    x_values = []\n",
    "    y_values = []\n",
    "    color_values = []\n",
    "    countries = []\n",
    "\n",
    "    # Iterate through the DataFrame\n",
    "    for index, row in data.iterrows():\n",
    "        country = row['Country']\n",
    "        x_values.append(row[variables[0]])\n",
    "        y_values.append(row[variables[1]])\n",
    "        if len(variables) == 3:\n",
    "            color_values.append(row[variables[2]])\n",
    "        countries.append(country)\n",
    "\n",
    "    # Call plt.scatter once outside the loop\n",
    "    if sizes and len(variables) == 3:\n",
    "        ax.scatter(x_values, y_values, color_values, c=color_values, cmap=custom_cmap, label=countries, s=4)\n",
    "    elif len(variables) == 3:\n",
    "        ax.scatter(x_values, y_values, c=color_values, cmap=custom_cmap, label=countries, s=4)\n",
    "    else:\n",
    "        dark_blue = [0 / 255, 0 / 255, 150 / 255]\n",
    "        ax.scatter(x_values, y_values, label=countries, s=4, color=dark_blue)\n",
    "\n",
    "    # Show text labels. Should only be used to find the country of a specific dot\n",
    "    #plt.text(x_values, y_values, countries, fontsize=6, ha='right')\n",
    "\n",
    "    # Add labels and title\n",
    "    # Format label text\n",
    "    substrings = [\n",
    "        [\"SDG 6.4.2. Water Stress\", \"Water Stress [\\\\%]\"],\n",
    "        [\"Total population with access to safe drinking-water (JMP)\", \"Population with access to safe drinking-water [\\\\%]\"],\n",
    "        [\" (NRI)\", \"\"],\n",
    "        [\" (3-year average)\", \"\"],\n",
    "        [\"GDP per capita\", \"GDP per capita [\\\\$]\"]]\n",
    "    \n",
    "    axis = variables\n",
    "    for i, j in substrings:\n",
    "        axis[0] = axis[0].replace(i, j)\n",
    "        axis[1] = axis[1].replace(i, j)\n",
    "    ax.set_xlabel(axis[0])\n",
    "    ax.set_ylabel(axis[1])\n",
    "\n",
    "    # Add light grey grid\n",
    "    ax.grid(True, linestyle='--', alpha=0.7)\n",
    "\n",
    "    # Add color bar\n",
    "    if len(variables) == 3:\n",
    "        cbar = fig.colorbar(ax.collections[0], extend=extend)\n",
    "        cbar.set_label(variables[2])\n",
    "\n",
    "    # Add source\n",
    "    ax.text(0.99, 0.01, AQUASTAT_SOURCE, fontsize='xx-small', transform=ax.transAxes, ha='right', va='bottom',\n",
    "            color=rgb.tue_gray)\n",
    "\n",
    "    # Add title\n",
    "    ax.set_title(title)\n",
    "\n",
    "    # Show the plot\n",
    "    plt.show()\n",
    "\n",
    "    # Save figures as pdf\n",
    "    plt.rcParams.update(bundles.icml2022(column='half', nrows=2, ncols=1))\n",
    "    src.utils.save_fig(plt, experimental=True)\n",
    "\n",
    "    \n",
    "    # Reset settings\n",
    "    plt.rcParams.update(settings)\n"
   ]
  },
  {
   "cell_type": "markdown",
   "id": "c8a1c05a-7702-455d-a9cb-856004587cf0",
   "metadata": {},
   "source": [
    "<br>\n",
    "<br>\n",
    "<br>\n",
    "<br>\n",
    "<hr>\n",
    "<br>"
   ]
  },
  {
   "cell_type": "markdown",
   "id": "e94b3cde-c1cf-411b-b5f2-37cf72f0fc68",
   "metadata": {},
   "source": [
    "# scatterplots\n",
    "Each dot in the following plots represents one country. The countries of the Arabian peninsula and Lybia have been removed due to their extreme values."
   ]
  },
  {
   "cell_type": "markdown",
   "id": "ecc0c791-dd23-473c-b48b-4a0f0f8f2e37",
   "metadata": {},
   "source": [
    "### water stress - undernourishment"
   ]
  },
  {
   "cell_type": "code",
   "execution_count": 3,
   "id": "594bc793-e9e4-4dca-ae28-c4887fc977cd",
   "metadata": {
    "ExecuteTime": {
     "end_time": "2024-01-29T02:10:15.159060Z",
     "start_time": "2024-01-29T02:10:15.015799Z"
    }
   },
   "outputs": [
    {
     "data": {
      "image/png": "[encoded data removed]",
      "text/plain": [
       "<Figure size 650x401.722 with 2 Axes>"
      ]
     },
     "metadata": {},
     "output_type": "display_data"
    },
    {
     "ename": "NameError",
     "evalue": "name 'save_fig' is not defined",
     "output_type": "error",
     "traceback": [
      "\u001b[0;31m---------------------------------------------------------------------------\u001b[0m",
      "\u001b[0;31mNameError\u001b[0m                                 Traceback (most recent call last)",
      "Cell \u001b[0;32mIn[3], line 5\u001b[0m\n\u001b[1;32m      1\u001b[0m relevant_vars \u001b[38;5;241m=\u001b[39m [\u001b[38;5;124m'\u001b[39m\u001b[38;5;124mSDG 6.4.2. Water Stress\u001b[39m\u001b[38;5;124m'\u001b[39m,\n\u001b[1;32m      2\u001b[0m                  \u001b[38;5;124m'\u001b[39m\u001b[38;5;124mPrevalence of undernourishment (3-year average)\u001b[39m\u001b[38;5;124m'\u001b[39m,\n\u001b[1;32m      3\u001b[0m                  \u001b[38;5;124m'\u001b[39m\u001b[38;5;124mNational Rainfall Index (NRI)\u001b[39m\u001b[38;5;124m'\u001b[39m]\n\u001b[0;32m----> 5\u001b[0m \u001b[43mscatterplot\u001b[49m\u001b[43m(\u001b[49m\u001b[43mrelevant_vars\u001b[49m\u001b[43m,\u001b[49m\u001b[43m \u001b[49m\u001b[38;5;241;43m2020\u001b[39;49m\u001b[43m,\u001b[49m\u001b[43m \u001b[49m\u001b[43mtitle\u001b[49m\u001b[38;5;241;43m=\u001b[39;49m\u001b[38;5;124;43m'\u001b[39;49m\u001b[38;5;124;43mWater stress - undernourishment\u001b[39;49m\u001b[38;5;124;43m'\u001b[39;49m\u001b[43m,\u001b[49m\u001b[43m \u001b[49m\u001b[43mextend\u001b[49m\u001b[38;5;241;43m=\u001b[39;49m\u001b[38;5;124;43m'\u001b[39;49m\u001b[38;5;124;43mmax\u001b[39;49m\u001b[38;5;124;43m'\u001b[39;49m\u001b[43m)\u001b[49m\n",
      "Cell \u001b[0;32mIn[2], line 116\u001b[0m, in \u001b[0;36mscatterplot\u001b[0;34m(variables, year, title, sizes, extend)\u001b[0m\n\u001b[1;32m    114\u001b[0m \u001b[38;5;66;03m# Save figures as pdf\u001b[39;00m\n\u001b[1;32m    115\u001b[0m plt\u001b[38;5;241m.\u001b[39mrcParams\u001b[38;5;241m.\u001b[39mupdate(bundles\u001b[38;5;241m.\u001b[39micml2022(column\u001b[38;5;241m=\u001b[39m\u001b[38;5;124m'\u001b[39m\u001b[38;5;124mhalf\u001b[39m\u001b[38;5;124m'\u001b[39m, nrows\u001b[38;5;241m=\u001b[39m\u001b[38;5;241m2\u001b[39m, ncols\u001b[38;5;241m=\u001b[39m\u001b[38;5;241m1\u001b[39m))\n\u001b[0;32m--> 116\u001b[0m \u001b[43msave_fig\u001b[49m(plt, experimental\u001b[38;5;241m=\u001b[39m\u001b[38;5;28;01mTrue\u001b[39;00m)\n\u001b[1;32m    119\u001b[0m \u001b[38;5;66;03m# Reset settings\u001b[39;00m\n\u001b[1;32m    120\u001b[0m plt\u001b[38;5;241m.\u001b[39mrcParams\u001b[38;5;241m.\u001b[39mupdate(settings)\n",
      "\u001b[0;31mNameError\u001b[0m: name 'save_fig' is not defined"
     ]
    }
   ],
   "source": [
    "relevant_vars = ['SDG 6.4.2. Water Stress',\n",
    "                 'Prevalence of undernourishment (3-year average)',\n",
    "                 'National Rainfall Index (NRI)']\n",
    "\n",
    "scatterplot(relevant_vars, 2020, title='Water stress - undernourishment', extend='max')"
   ]
  },
  {
   "cell_type": "markdown",
   "id": "237e4cc1-3245-4e94-8bca-29d9fd6d6de2",
   "metadata": {},
   "source": [
    "### water stress - access to clean water"
   ]
  },
  {
   "cell_type": "code",
   "execution_count": null,
   "id": "0020f77c-2253-436b-b88f-c8c9c0d120af",
   "metadata": {
    "ExecuteTime": {
     "end_time": "2024-01-29T02:10:15.628204Z",
     "start_time": "2024-01-29T02:10:15.161902Z"
    }
   },
   "outputs": [],
   "source": [
    "relevant_vars = ['Total population with access to safe drinking-water (JMP)',\n",
    "                 'SDG 6.4.2. Water Stress',\n",
    "                 'Agricultural water withdrawal as % of total water withdrawal']\n",
    "\n",
    "scatterplot(relevant_vars, 2020, title='Water stress - access to clean water', extend='max')"
   ]
  },
  {
   "cell_type": "markdown",
   "id": "87ac5f72-015e-4ddb-9b16-d4f110f269e7",
   "metadata": {},
   "source": [
    "### GDP per capita - access to clean water"
   ]
  },
  {
   "cell_type": "code",
   "execution_count": null,
   "id": "8af5314d-9d25-43a4-8951-1efed62e743e",
   "metadata": {
    "ExecuteTime": {
     "end_time": "2024-01-29T02:10:15.900197Z",
     "start_time": "2024-01-29T02:10:15.627398Z"
    }
   },
   "outputs": [],
   "source": [
    "relevant_vars = ['Total population with access to safe drinking-water (JMP)',\n",
    "                 'GDP per capita']\n",
    "\n",
    "scatterplot(relevant_vars, 2020, title='GDP per capita - access to clean water')"
   ]
  },
  {
   "cell_type": "markdown",
   "id": "f21c45c1-d563-4cd5-b8a5-86d25438b50c",
   "metadata": {},
   "source": [
    "### rainfall - access to clean water"
   ]
  },
  {
   "cell_type": "code",
   "execution_count": null,
   "id": "a37fd5bf-cba7-4b2e-8abc-d6a400f21893",
   "metadata": {
    "ExecuteTime": {
     "end_time": "2024-01-29T02:10:16.054497Z",
     "start_time": "2024-01-29T02:10:15.912283Z"
    }
   },
   "outputs": [],
   "source": [
    "relevant_vars = ['Total population with access to safe drinking-water (JMP)',\n",
    "                 'National Rainfall Index (NRI)',\n",
    "                 'Agricultural water withdrawal as % of total water withdrawal']\n",
    "\n",
    "scatterplot(relevant_vars, 2020, title='Rainfall - access to clean water')"
   ]
  },
  {
   "cell_type": "markdown",
   "id": "ef1d9bf2-c17c-42d2-931a-ffcba6f7871c",
   "metadata": {},
   "source": [
    "# Statistics\n",
    "First, let's look at a simple correlation:"
   ]
  },
  {
   "cell_type": "code",
   "execution_count": null,
   "id": "01315002-ef11-469b-bc27-1b81dd677b33",
   "metadata": {
    "ExecuteTime": {
     "end_time": "2024-01-29T02:10:16.059051Z",
     "start_time": "2024-01-29T02:10:16.056949Z"
    }
   },
   "outputs": [],
   "source": [
    "# code taken and modified from exp_population_hypothesis_test\n",
    "\n",
    "# filter the latest data for the year 2020\n",
    "filt_df = df[df['Year'] == 2020]\n",
    "# select relevant variables\n",
    "filt_df = filt_df[\n",
    "    ['Country', 'Total population with access to safe drinking-water (JMP)', 'SDG 6.4.2. Water Stress']]\n",
    "# drop all rows where no data is available (where NaNs occur)\n",
    "filt_df = filt_df.dropna()\n",
    "filt_df.head()\n",
    "\n",
    "corr = filt_df['Total population with access to safe drinking-water (JMP)'].corr(\n",
    "    filt_df['SDG 6.4.2. Water Stress'])\n",
    "print(\n",
    "    'The correlation between the Total population with access to safe drinking-water and the National Rainfall Index:')\n",
    "print(corr)"
   ]
  },
  {
   "cell_type": "markdown",
   "id": "edab1faf-33de-4683-a697-66823e1a127e",
   "metadata": {},
   "source": [
    "# Conclusion"
   ]
  },
  {
   "cell_type": "markdown",
   "id": "06640f77-4729-4934-a862-d4a8f99abf02",
   "metadata": {},
   "source": [
    "On the one hand, many factory like the amount of rainfall don't seem to have a direct influence on the access to clean drinking water at all. Neither does the share of water used for irrigation or municipalities affect the access to clean drinking water or undernourishment.\n",
    "\n",
    "There seems to be a little correlation between freshwater withdrawal in regards of the total renewable water resources and access to clean drinking water. Countries which struggle to provide clean water to their citizens often use a lower share of the naturally available water resources.\n",
    "\n",
    "**Therefore, high water scarcity or stress doesn't seem to be a good indicator for the water related problems like access to clean drinking water and undernourishment**.\n",
    "\n",
    "The most important effect on access to clean drinking water seems to be the GDP per capita.\n",
    "\n",
    "Therefore, it appears that countries with poor access to clean drinking water suffer not from a scarcity of water, but rather [conclusion, (sources?)] from significant challenges in its treatment, distribution, and purification.\n",
    "\n",
    "<br>\n",
    "\n",
    "North and South Korea show this effect pretty well. In both countries, the average rainfall is about the same (source?), South Korea has a higher water stress due to them using way more water for their heavily industrialised country. Contrary, North Korea has way more people with no access to clean drinking water.\n",
    "\n",
    "The gulf states are another example: They have an immense water usage and also water stress. But with their money they are able to provide clean water to most of the polulation (Source?).\n",
    "\n",
    "Bigger regions with this effect are north africa with big water stress but central africa with big problems with clean drinking water and undernourishment.\n",
    "\n",
    "\n",
    "Or in other words:\n",
    "### Rain doesn't directly solve people's thirst, but money will!"
   ]
  }
 ],
 "metadata": {
  "kernelspec": {
   "display_name": "Python 3 (ipykernel)",
   "language": "python",
   "name": "python3"
  },
  "language_info": {
   "codemirror_mode": {
    "name": "ipython",
    "version": 3
   },
   "file_extension": ".py",
   "mimetype": "text/x-python",
   "name": "python",
   "nbconvert_exporter": "python",
   "pygments_lexer": "ipython3",
   "version": "3.11.2"
  }
 },
 "nbformat": 4,
 "nbformat_minor": 5
}
